{
  "nbformat": 4,
  "nbformat_minor": 0,
  "metadata": {
    "colab": {
      "provenance": []
    },
    "kernelspec": {
      "name": "python3",
      "display_name": "Python 3"
    },
    "language_info": {
      "name": "python"
    },
    "accelerator": "GPU"
  },
  "cells": [
    {
      "cell_type": "code",
      "metadata": {
        "id": "vENcQuGotx5F",
        "colab": {
          "base_uri": "https://localhost:8080/"
        },
        "outputId": "984b89a8-ed57-420a-c43a-07073fd7ab26"
      },
      "source": [
        "from google.colab import drive\n",
        "from IPython.core.magic import register_line_cell_magic\n",
        "import os\n",
        "import tqdm  \n",
        "import numpy as np\n",
        "import cv2\n",
        "import sys\n",
        "import shutil\n",
        "import re\n",
        "!sudo update-alternatives --install /usr/bin/python3 python3 /usr/bin/python3.8 1\n",
        "!sudo update-alternatives --config python3\n",
        "!sudo apt install python3-pip\n",
        "drive.mount('/content/drive')"
      ],
      "execution_count": 1,
      "outputs": [
        {
          "output_type": "stream",
          "name": "stdout",
          "text": [
            "There are 2 choices for the alternative python3 (providing /usr/bin/python3).\n",
            "\n",
            "  Selection    Path                Priority   Status\n",
            "------------------------------------------------------------\n",
            "* 0            /usr/bin/python3.9   2         auto mode\n",
            "  1            /usr/bin/python3.8   1         manual mode\n",
            "  2            /usr/bin/python3.9   2         manual mode\n",
            "\n",
            "Press <enter> to keep the current choice[*], or type selection number: 1\n",
            "update-alternatives: using /usr/bin/python3.8 to provide /usr/bin/python3 (python3) in manual mode\n",
            "Reading package lists... Done\n",
            "Building dependency tree       \n",
            "Reading state information... Done\n",
            "The following additional packages will be installed:\n",
            "  python-pip-whl python3-setuptools python3-wheel\n",
            "Suggested packages:\n",
            "  python-setuptools-doc\n",
            "The following NEW packages will be installed:\n",
            "  python-pip-whl python3-pip python3-setuptools python3-wheel\n",
            "0 upgraded, 4 newly installed, 0 to remove and 22 not upgraded.\n",
            "Need to get 2,389 kB of archives.\n",
            "After this operation, 4,933 kB of additional disk space will be used.\n",
            "Get:1 http://archive.ubuntu.com/ubuntu focal-updates/universe amd64 python-pip-whl all 20.0.2-5ubuntu1.8 [1,805 kB]\n",
            "Get:2 http://archive.ubuntu.com/ubuntu focal-updates/main amd64 python3-setuptools all 45.2.0-1ubuntu0.1 [330 kB]\n",
            "Get:3 http://archive.ubuntu.com/ubuntu focal-updates/universe amd64 python3-wheel all 0.34.2-1ubuntu0.1 [23.9 kB]\n",
            "Get:4 http://archive.ubuntu.com/ubuntu focal-updates/universe amd64 python3-pip all 20.0.2-5ubuntu1.8 [231 kB]\n",
            "Fetched 2,389 kB in 3s (937 kB/s)\n",
            "debconf: unable to initialize frontend: Dialog\n",
            "debconf: (No usable dialog-like program is installed, so the dialog based frontend cannot be used. at /usr/share/perl5/Debconf/FrontEnd/Dialog.pm line 76, <> line 4.)\n",
            "debconf: falling back to frontend: Readline\n",
            "debconf: unable to initialize frontend: Readline\n",
            "debconf: (This frontend requires a controlling tty.)\n",
            "debconf: falling back to frontend: Teletype\n",
            "dpkg-preconfigure: unable to re-open stdin: \n",
            "Selecting previously unselected package python-pip-whl.\n",
            "(Reading database ... 128275 files and directories currently installed.)\n",
            "Preparing to unpack .../python-pip-whl_20.0.2-5ubuntu1.8_all.deb ...\n",
            "Unpacking python-pip-whl (20.0.2-5ubuntu1.8) ...\n",
            "Selecting previously unselected package python3-setuptools.\n",
            "Preparing to unpack .../python3-setuptools_45.2.0-1ubuntu0.1_all.deb ...\n",
            "Unpacking python3-setuptools (45.2.0-1ubuntu0.1) ...\n",
            "Selecting previously unselected package python3-wheel.\n",
            "Preparing to unpack .../python3-wheel_0.34.2-1ubuntu0.1_all.deb ...\n",
            "Unpacking python3-wheel (0.34.2-1ubuntu0.1) ...\n",
            "Selecting previously unselected package python3-pip.\n",
            "Preparing to unpack .../python3-pip_20.0.2-5ubuntu1.8_all.deb ...\n",
            "Unpacking python3-pip (20.0.2-5ubuntu1.8) ...\n",
            "Setting up python3-setuptools (45.2.0-1ubuntu0.1) ...\n",
            "Setting up python3-wheel (0.34.2-1ubuntu0.1) ...\n",
            "Setting up python-pip-whl (20.0.2-5ubuntu1.8) ...\n",
            "Setting up python3-pip (20.0.2-5ubuntu1.8) ...\n",
            "Processing triggers for man-db (2.9.1-1) ...\n",
            "Mounted at /content/drive\n"
          ]
        }
      ]
    },
    {
      "cell_type": "code",
      "source": [
        "!wget https://developer.download.nvidia.com/compute/cuda/repos/ubuntu1804/x86_64/cuda-ubuntu1804.pin\n",
        "!sudo mv cuda-ubuntu1804.pin /etc/apt/preferences.d/cuda-repository-pin-600\n",
        "!wget https://developer.download.nvidia.com/compute/cuda/10.1/Prod/local_installers/cuda-repo-ubuntu1804-10-1-local-10.1.243-418.87.00_1.0-1_amd64.deb\n",
        "!sudo dpkg -i cuda-repo-ubuntu1804-10-1-local-10.1.243-418.87.00_1.0-1_amd64.deb\n",
        "!sudo apt-key add /var/cuda-repo-10-1-local-10.1.243-418.87.00/7fa2af80.pub\n",
        "!sudo apt-get update\n"
      ],
      "metadata": {
        "colab": {
          "base_uri": "https://localhost:8080/"
        },
        "id": "Ozigy0XtXNeP",
        "outputId": "d7cee8fb-d2c8-45cf-ee7f-a37db910fc23"
      },
      "execution_count": 2,
      "outputs": [
        {
          "output_type": "stream",
          "name": "stdout",
          "text": [
            "--2023-03-14 08:26:46--  https://developer.download.nvidia.com/compute/cuda/repos/ubuntu1804/x86_64/cuda-ubuntu1804.pin\n",
            "Resolving developer.download.nvidia.com (developer.download.nvidia.com)... 152.199.39.144\n",
            "Connecting to developer.download.nvidia.com (developer.download.nvidia.com)|152.199.39.144|:443... connected.\n",
            "HTTP request sent, awaiting response... 200 OK\n",
            "Length: 190 [application/octet-stream]\n",
            "Saving to: ‘cuda-ubuntu1804.pin’\n",
            "\n",
            "\rcuda-ubuntu1804.pin   0%[                    ]       0  --.-KB/s               \rcuda-ubuntu1804.pin 100%[===================>]     190  --.-KB/s    in 0s      \n",
            "\n",
            "2023-03-14 08:26:46 (6.41 MB/s) - ‘cuda-ubuntu1804.pin’ saved [190/190]\n",
            "\n",
            "--2023-03-14 08:26:46--  https://developer.download.nvidia.com/compute/cuda/10.1/Prod/local_installers/cuda-repo-ubuntu1804-10-1-local-10.1.243-418.87.00_1.0-1_amd64.deb\n",
            "Resolving developer.download.nvidia.com (developer.download.nvidia.com)... 152.199.39.144\n",
            "Connecting to developer.download.nvidia.com (developer.download.nvidia.com)|152.199.39.144|:443... connected.\n",
            "HTTP request sent, awaiting response... 200 OK\n",
            "Length: 1859785444 (1.7G) [application/x-deb]\n",
            "Saving to: ‘cuda-repo-ubuntu1804-10-1-local-10.1.243-418.87.00_1.0-1_amd64.deb’\n",
            "\n",
            "cuda-repo-ubuntu180 100%[===================>]   1.73G   234MB/s    in 7.0s    \n",
            "\n",
            "2023-03-14 08:26:53 (253 MB/s) - ‘cuda-repo-ubuntu1804-10-1-local-10.1.243-418.87.00_1.0-1_amd64.deb’ saved [1859785444/1859785444]\n",
            "\n",
            "Selecting previously unselected package cuda-repo-ubuntu1804-10-1-local-10.1.243-418.87.00.\n",
            "(Reading database ... 128639 files and directories currently installed.)\n",
            "Preparing to unpack cuda-repo-ubuntu1804-10-1-local-10.1.243-418.87.00_1.0-1_amd64.deb ...\n",
            "Unpacking cuda-repo-ubuntu1804-10-1-local-10.1.243-418.87.00 (1.0-1) ...\n",
            "Setting up cuda-repo-ubuntu1804-10-1-local-10.1.243-418.87.00 (1.0-1) ...\n",
            "OK\n",
            "Get:1 file:/var/cuda-repo-10-1-local-10.1.243-418.87.00  InRelease\n",
            "Ign:1 file:/var/cuda-repo-10-1-local-10.1.243-418.87.00  InRelease\n",
            "Get:2 file:/var/cuda-repo-10-1-local-10.1.243-418.87.00  Release [574 B]\n",
            "Get:2 file:/var/cuda-repo-10-1-local-10.1.243-418.87.00  Release [574 B]\n",
            "Get:3 file:/var/cuda-repo-10-1-local-10.1.243-418.87.00  Release.gpg [833 B]\n",
            "Get:3 file:/var/cuda-repo-10-1-local-10.1.243-418.87.00  Release.gpg [833 B]\n",
            "Get:4 file:/var/cuda-repo-10-1-local-10.1.243-418.87.00  Packages [25.0 kB]\n",
            "Get:5 https://cloud.r-project.org/bin/linux/ubuntu focal-cran40/ InRelease [3,622 B]\n",
            "Ign:6 https://developer.download.nvidia.com/compute/machine-learning/repos/ubuntu2004/x86_64  InRelease\n",
            "Hit:7 https://developer.download.nvidia.com/compute/cuda/repos/ubuntu2004/x86_64  InRelease\n",
            "Hit:8 https://developer.download.nvidia.com/compute/machine-learning/repos/ubuntu2004/x86_64  Release\n",
            "Hit:9 http://archive.ubuntu.com/ubuntu focal InRelease\n",
            "Get:11 http://archive.ubuntu.com/ubuntu focal-updates InRelease [114 kB]\n",
            "Get:12 http://security.ubuntu.com/ubuntu focal-security InRelease [114 kB]\n",
            "Get:13 http://ppa.launchpad.net/c2d4u.team/c2d4u4.0+/ubuntu focal InRelease [18.1 kB]\n",
            "Get:14 http://archive.ubuntu.com/ubuntu focal-backports InRelease [108 kB]\n",
            "Hit:15 http://ppa.launchpad.net/cran/libgit2/ubuntu focal InRelease\n",
            "Get:16 http://archive.ubuntu.com/ubuntu focal-updates/universe amd64 Packages [1,312 kB]\n",
            "Hit:17 http://ppa.launchpad.net/deadsnakes/ppa/ubuntu focal InRelease\n",
            "Get:18 http://security.ubuntu.com/ubuntu focal-security/universe amd64 Packages [1,017 kB]\n",
            "Hit:19 http://ppa.launchpad.net/graphics-drivers/ppa/ubuntu focal InRelease\n",
            "Get:20 http://archive.ubuntu.com/ubuntu focal-updates/main amd64 Packages [3,019 kB]\n",
            "Hit:21 http://ppa.launchpad.net/ubuntugis/ppa/ubuntu focal InRelease\n",
            "Get:22 http://ppa.launchpad.net/c2d4u.team/c2d4u4.0+/ubuntu focal/main Sources [2,397 kB]\n",
            "Get:23 http://security.ubuntu.com/ubuntu focal-security/main amd64 Packages [2,542 kB]\n",
            "Get:24 http://ppa.launchpad.net/c2d4u.team/c2d4u4.0+/ubuntu focal/main amd64 Packages [1,136 kB]\n",
            "Fetched 11.8 MB in 6s (1,846 kB/s)\n",
            "Reading package lists... Done\n"
          ]
        }
      ]
    },
    {
      "cell_type": "code",
      "source": [
        "!sudo apt-get install cuda-10-1"
      ],
      "metadata": {
        "colab": {
          "base_uri": "https://localhost:8080/"
        },
        "id": "epExdbjWXZZg",
        "outputId": "a375e663-ee5d-4f52-9c59-1082307ceb6a"
      },
      "execution_count": 3,
      "outputs": [
        {
          "output_type": "stream",
          "name": "stdout",
          "text": [
            "Reading package lists... Done\n",
            "Building dependency tree       \n",
            "Reading state information... Done\n",
            "The following additional packages will be installed:\n",
            "  cuda-command-line-tools-10-1 cuda-compiler-10-1 cuda-cudart-10-1\n",
            "  cuda-cudart-dev-10-1 cuda-cufft-10-1 cuda-cufft-dev-10-1 cuda-cuobjdump-10-1\n",
            "  cuda-cupti-10-1 cuda-curand-10-1 cuda-curand-dev-10-1 cuda-cusolver-10-1\n",
            "  cuda-cusolver-dev-10-1 cuda-cusparse-10-1 cuda-cusparse-dev-10-1\n",
            "  cuda-demo-suite-10-1 cuda-documentation-10-1 cuda-driver-dev-10-1\n",
            "  cuda-gdb-10-1 cuda-gpu-library-advisor-10-1 cuda-libraries-10-1\n",
            "  cuda-libraries-dev-10-1 cuda-license-10-1 cuda-memcheck-10-1\n",
            "  cuda-misc-headers-10-1 cuda-npp-10-1 cuda-npp-dev-10-1 cuda-nsight-10-1\n",
            "  cuda-nsight-compute-10-1 cuda-nsight-systems-10-1 cuda-nvcc-10-1\n",
            "  cuda-nvdisasm-10-1 cuda-nvgraph-10-1 cuda-nvgraph-dev-10-1 cuda-nvjpeg-10-1\n",
            "  cuda-nvjpeg-dev-10-1 cuda-nvml-dev-10-1 cuda-nvprof-10-1 cuda-nvprune-10-1\n",
            "  cuda-nvrtc-10-1 cuda-nvrtc-dev-10-1 cuda-nvtx-10-1 cuda-nvvp-10-1\n",
            "  cuda-runtime-10-1 cuda-samples-10-1 cuda-sanitizer-api-10-1\n",
            "  cuda-toolkit-10-1 cuda-tools-10-1 cuda-visual-tools-10-1 freeglut3\n",
            "  freeglut3-dev libcublas-dev libcublas10 libxfixes-dev libxi-dev libxmu-dev\n",
            "  libxmu-headers x11proto-input-dev\n",
            "The following NEW packages will be installed:\n",
            "  cuda-10-1 cuda-command-line-tools-10-1 cuda-compiler-10-1 cuda-cudart-10-1\n",
            "  cuda-cudart-dev-10-1 cuda-cufft-10-1 cuda-cufft-dev-10-1 cuda-cuobjdump-10-1\n",
            "  cuda-cupti-10-1 cuda-curand-10-1 cuda-curand-dev-10-1 cuda-cusolver-10-1\n",
            "  cuda-cusolver-dev-10-1 cuda-cusparse-10-1 cuda-cusparse-dev-10-1\n",
            "  cuda-demo-suite-10-1 cuda-documentation-10-1 cuda-driver-dev-10-1\n",
            "  cuda-gdb-10-1 cuda-gpu-library-advisor-10-1 cuda-libraries-10-1\n",
            "  cuda-libraries-dev-10-1 cuda-license-10-1 cuda-memcheck-10-1\n",
            "  cuda-misc-headers-10-1 cuda-npp-10-1 cuda-npp-dev-10-1 cuda-nsight-10-1\n",
            "  cuda-nsight-compute-10-1 cuda-nsight-systems-10-1 cuda-nvcc-10-1\n",
            "  cuda-nvdisasm-10-1 cuda-nvgraph-10-1 cuda-nvgraph-dev-10-1 cuda-nvjpeg-10-1\n",
            "  cuda-nvjpeg-dev-10-1 cuda-nvml-dev-10-1 cuda-nvprof-10-1 cuda-nvprune-10-1\n",
            "  cuda-nvrtc-10-1 cuda-nvrtc-dev-10-1 cuda-nvtx-10-1 cuda-nvvp-10-1\n",
            "  cuda-runtime-10-1 cuda-samples-10-1 cuda-sanitizer-api-10-1\n",
            "  cuda-toolkit-10-1 cuda-tools-10-1 cuda-visual-tools-10-1 freeglut3\n",
            "  freeglut3-dev libcublas-dev libcublas10 libxfixes-dev libxi-dev libxmu-dev\n",
            "  libxmu-headers x11proto-input-dev\n",
            "0 upgraded, 58 newly installed, 0 to remove and 27 not upgraded.\n",
            "Need to get 503 kB/1,390 MB of archives.\n",
            "After this operation, 3,333 MB of additional disk space will be used.\n",
            "Get:1 file:/var/cuda-repo-10-1-local-10.1.243-418.87.00  cuda-license-10-1 10.1.243-1 [16.4 kB]\n",
            "Get:2 file:/var/cuda-repo-10-1-local-10.1.243-418.87.00  cuda-misc-headers-10-1 10.1.243-1 [692 kB]\n",
            "Get:3 file:/var/cuda-repo-10-1-local-10.1.243-418.87.00  cuda-nvcc-10-1 10.1.243-1 [15.7 MB]\n",
            "Get:4 file:/var/cuda-repo-10-1-local-10.1.243-418.87.00  cuda-cuobjdump-10-1 10.1.243-1 [81.6 kB]\n",
            "Get:5 file:/var/cuda-repo-10-1-local-10.1.243-418.87.00  cuda-nvprune-10-1 10.1.243-1 [36.9 kB]\n",
            "Get:6 file:/var/cuda-repo-10-1-local-10.1.243-418.87.00  cuda-compiler-10-1 10.1.243-1 [2,534 B]\n",
            "Get:7 file:/var/cuda-repo-10-1-local-10.1.243-418.87.00  cuda-nvdisasm-10-1 10.1.243-1 [22.1 MB]\n",
            "Get:8 file:/var/cuda-repo-10-1-local-10.1.243-418.87.00  cuda-gdb-10-1 10.1.243-1 [2,773 kB]\n",
            "Get:9 file:/var/cuda-repo-10-1-local-10.1.243-418.87.00  cuda-nvprof-10-1 10.1.243-1 [4,016 kB]\n",
            "Get:10 http://archive.ubuntu.com/ubuntu focal/universe amd64 freeglut3 amd64 2.8.1-3 [73.6 kB]\n",
            "Get:11 file:/var/cuda-repo-10-1-local-10.1.243-418.87.00  cuda-sanitizer-api-10-1 10.1.243-1 [2,153 kB]\n",
            "Get:12 file:/var/cuda-repo-10-1-local-10.1.243-418.87.00  cuda-memcheck-10-1 10.1.243-1 [139 kB]\n",
            "Get:13 file:/var/cuda-repo-10-1-local-10.1.243-418.87.00  cuda-cudart-10-1 10.1.243-1 [109 kB]\n",
            "Get:14 file:/var/cuda-repo-10-1-local-10.1.243-418.87.00  cuda-driver-dev-10-1 10.1.243-1 [11.6 kB]\n",
            "Get:15 file:/var/cuda-repo-10-1-local-10.1.243-418.87.00  cuda-cudart-dev-10-1 10.1.243-1 [447 kB]\n",
            "Get:16 file:/var/cuda-repo-10-1-local-10.1.243-418.87.00  cuda-cupti-10-1 10.1.243-1 [11.2 MB]\n",
            "Get:17 file:/var/cuda-repo-10-1-local-10.1.243-418.87.00  cuda-gpu-library-advisor-10-1 10.1.243-1 [1,003 kB]\n",
            "Get:18 file:/var/cuda-repo-10-1-local-10.1.243-418.87.00  cuda-nvtx-10-1 10.1.243-1 [38.9 kB]\n",
            "Get:19 file:/var/cuda-repo-10-1-local-10.1.243-418.87.00  cuda-command-line-tools-10-1 10.1.243-1 [27.3 kB]\n",
            "Get:20 file:/var/cuda-repo-10-1-local-10.1.243-418.87.00  cuda-nsight-10-1 10.1.243-1 [2,584 B]\n",
            "Get:21 file:/var/cuda-repo-10-1-local-10.1.243-418.87.00  cuda-nvvp-10-1 10.1.243-1 [2,530 B]\n",
            "Get:22 file:/var/cuda-repo-10-1-local-10.1.243-418.87.00  cuda-nvrtc-10-1 10.1.243-1 [6,288 kB]\n",
            "Get:23 file:/var/cuda-repo-10-1-local-10.1.243-418.87.00  cuda-nvrtc-dev-10-1 10.1.243-1 [8,812 B]\n",
            "Get:24 http://archive.ubuntu.com/ubuntu focal/universe amd64 freeglut3-dev amd64 2.8.1-3 [124 kB]\n",
            "Get:25 file:/var/cuda-repo-10-1-local-10.1.243-418.87.00  cuda-cusolver-10-1 10.1.243-1 [71.9 MB]\n",
            "Get:26 file:/var/cuda-repo-10-1-local-10.1.243-418.87.00  cuda-cusolver-dev-10-1 10.1.243-1 [14.0 MB]\n",
            "Get:27 http://archive.ubuntu.com/ubuntu focal/main amd64 libxmu-headers all 2:1.1.3-0ubuntu1 [54.2 kB]\n",
            "Get:28 http://archive.ubuntu.com/ubuntu focal/main amd64 libxmu-dev amd64 2:1.1.3-0ubuntu1 [49.9 kB]\n",
            "Get:29 http://archive.ubuntu.com/ubuntu focal/main amd64 libxfixes-dev amd64 1:5.0.3-2 [11.4 kB]\n",
            "Get:30 http://archive.ubuntu.com/ubuntu focal/main amd64 x11proto-input-dev all 2019.2-1ubuntu1 [2,628 B]\n",
            "Get:31 http://archive.ubuntu.com/ubuntu focal/main amd64 libxi-dev amd64 2:1.7.10-0ubuntu1 [187 kB]\n",
            "Get:32 file:/var/cuda-repo-10-1-local-10.1.243-418.87.00  libcublas10 10.2.1.243-1 [38.8 MB]\n",
            "Get:33 file:/var/cuda-repo-10-1-local-10.1.243-418.87.00  libcublas-dev 10.2.1.243-1 [38.9 MB]\n",
            "Get:34 file:/var/cuda-repo-10-1-local-10.1.243-418.87.00  cuda-cufft-10-1 10.1.243-1 [84.2 MB]\n",
            "Get:35 file:/var/cuda-repo-10-1-local-10.1.243-418.87.00  cuda-cufft-dev-10-1 10.1.243-1 [158 MB]\n",
            "Get:36 file:/var/cuda-repo-10-1-local-10.1.243-418.87.00  cuda-curand-10-1 10.1.243-1 [38.9 MB]\n",
            "Get:37 file:/var/cuda-repo-10-1-local-10.1.243-418.87.00  cuda-curand-dev-10-1 10.1.243-1 [58.1 MB]\n",
            "Get:38 file:/var/cuda-repo-10-1-local-10.1.243-418.87.00  cuda-cusparse-10-1 10.1.243-1 [55.2 MB]\n",
            "Get:39 file:/var/cuda-repo-10-1-local-10.1.243-418.87.00  cuda-cusparse-dev-10-1 10.1.243-1 [55.7 MB]\n",
            "Get:40 file:/var/cuda-repo-10-1-local-10.1.243-418.87.00  cuda-npp-10-1 10.1.243-1 [54.9 MB]\n",
            "Get:41 file:/var/cuda-repo-10-1-local-10.1.243-418.87.00  cuda-npp-dev-10-1 10.1.243-1 [55.7 MB]\n",
            "Get:42 file:/var/cuda-repo-10-1-local-10.1.243-418.87.00  cuda-nvml-dev-10-1 10.1.243-1 [53.1 kB]\n",
            "Get:43 file:/var/cuda-repo-10-1-local-10.1.243-418.87.00  cuda-nvjpeg-10-1 10.1.243-1 [1,213 kB]\n",
            "Get:44 file:/var/cuda-repo-10-1-local-10.1.243-418.87.00  cuda-nvjpeg-dev-10-1 10.1.243-1 [1,153 kB]\n",
            "Get:45 file:/var/cuda-repo-10-1-local-10.1.243-418.87.00  cuda-nsight-compute-10-1 10.1.243-1 [3,698 B]\n",
            "Get:46 file:/var/cuda-repo-10-1-local-10.1.243-418.87.00  cuda-nsight-systems-10-1 10.1.243-1 [3,130 B]\n",
            "Get:47 file:/var/cuda-repo-10-1-local-10.1.243-418.87.00  cuda-nvgraph-10-1 10.1.243-1 [41.7 MB]\n",
            "Get:48 file:/var/cuda-repo-10-1-local-10.1.243-418.87.00  cuda-nvgraph-dev-10-1 10.1.243-1 [34.2 MB]\n",
            "Get:49 file:/var/cuda-repo-10-1-local-10.1.243-418.87.00  cuda-visual-tools-10-1 10.1.243-1 [398 MB]\n",
            "Get:50 file:/var/cuda-repo-10-1-local-10.1.243-418.87.00  cuda-tools-10-1 10.1.243-1 [2,496 B]\n",
            "Get:51 file:/var/cuda-repo-10-1-local-10.1.243-418.87.00  cuda-samples-10-1 10.1.243-1 [64.5 MB]\n",
            "Get:52 file:/var/cuda-repo-10-1-local-10.1.243-418.87.00  cuda-documentation-10-1 10.1.243-1 [53.5 MB]\n",
            "Get:53 file:/var/cuda-repo-10-1-local-10.1.243-418.87.00  cuda-libraries-dev-10-1 10.1.243-1 [2,612 B]\n",
            "Get:54 file:/var/cuda-repo-10-1-local-10.1.243-418.87.00  cuda-toolkit-10-1 10.1.243-1 [2,828 B]\n",
            "Get:55 file:/var/cuda-repo-10-1-local-10.1.243-418.87.00  cuda-libraries-10-1 10.1.243-1 [2,588 B]\n",
            "Get:56 file:/var/cuda-repo-10-1-local-10.1.243-418.87.00  cuda-runtime-10-1 10.1.243-1 [2,532 B]\n",
            "Get:57 file:/var/cuda-repo-10-1-local-10.1.243-418.87.00  cuda-demo-suite-10-1 10.1.243-1 [3,851 kB]\n",
            "Get:58 file:/var/cuda-repo-10-1-local-10.1.243-418.87.00  cuda-10-1 10.1.243-1 [2,560 B]\n",
            "Fetched 503 kB in 13s (38.8 kB/s)\n",
            "debconf: unable to initialize frontend: Dialog\n",
            "debconf: (No usable dialog-like program is installed, so the dialog based frontend cannot be used. at /usr/share/perl5/Debconf/FrontEnd/Dialog.pm line 76, <> line 58.)\n",
            "debconf: falling back to frontend: Readline\n",
            "debconf: unable to initialize frontend: Readline\n",
            "debconf: (This frontend requires a controlling tty.)\n",
            "debconf: falling back to frontend: Teletype\n",
            "dpkg-preconfigure: unable to re-open stdin: \n",
            "Selecting previously unselected package cuda-license-10-1.\n",
            "(Reading database ... 128732 files and directories currently installed.)\n",
            "Preparing to unpack .../00-cuda-license-10-1_10.1.243-1_amd64.deb ...\n",
            "Unpacking cuda-license-10-1 (10.1.243-1) ...\n",
            "Selecting previously unselected package cuda-misc-headers-10-1.\n",
            "Preparing to unpack .../01-cuda-misc-headers-10-1_10.1.243-1_amd64.deb ...\n",
            "Unpacking cuda-misc-headers-10-1 (10.1.243-1) ...\n",
            "Selecting previously unselected package cuda-nvcc-10-1.\n",
            "Preparing to unpack .../02-cuda-nvcc-10-1_10.1.243-1_amd64.deb ...\n",
            "Unpacking cuda-nvcc-10-1 (10.1.243-1) ...\n",
            "Selecting previously unselected package cuda-cuobjdump-10-1.\n",
            "Preparing to unpack .../03-cuda-cuobjdump-10-1_10.1.243-1_amd64.deb ...\n",
            "Unpacking cuda-cuobjdump-10-1 (10.1.243-1) ...\n",
            "Selecting previously unselected package cuda-nvprune-10-1.\n",
            "Preparing to unpack .../04-cuda-nvprune-10-1_10.1.243-1_amd64.deb ...\n",
            "Unpacking cuda-nvprune-10-1 (10.1.243-1) ...\n",
            "Selecting previously unselected package cuda-compiler-10-1.\n",
            "Preparing to unpack .../05-cuda-compiler-10-1_10.1.243-1_amd64.deb ...\n",
            "Unpacking cuda-compiler-10-1 (10.1.243-1) ...\n",
            "Selecting previously unselected package cuda-nvdisasm-10-1.\n",
            "Preparing to unpack .../06-cuda-nvdisasm-10-1_10.1.243-1_amd64.deb ...\n",
            "Unpacking cuda-nvdisasm-10-1 (10.1.243-1) ...\n",
            "Selecting previously unselected package cuda-gdb-10-1.\n",
            "Preparing to unpack .../07-cuda-gdb-10-1_10.1.243-1_amd64.deb ...\n",
            "Unpacking cuda-gdb-10-1 (10.1.243-1) ...\n",
            "Selecting previously unselected package cuda-nvprof-10-1.\n",
            "Preparing to unpack .../08-cuda-nvprof-10-1_10.1.243-1_amd64.deb ...\n",
            "Unpacking cuda-nvprof-10-1 (10.1.243-1) ...\n",
            "Selecting previously unselected package cuda-sanitizer-api-10-1.\n",
            "Preparing to unpack .../09-cuda-sanitizer-api-10-1_10.1.243-1_amd64.deb ...\n",
            "Unpacking cuda-sanitizer-api-10-1 (10.1.243-1) ...\n",
            "Selecting previously unselected package cuda-memcheck-10-1.\n",
            "Preparing to unpack .../10-cuda-memcheck-10-1_10.1.243-1_amd64.deb ...\n",
            "Unpacking cuda-memcheck-10-1 (10.1.243-1) ...\n",
            "Selecting previously unselected package cuda-cudart-10-1.\n",
            "Preparing to unpack .../11-cuda-cudart-10-1_10.1.243-1_amd64.deb ...\n",
            "Unpacking cuda-cudart-10-1 (10.1.243-1) ...\n",
            "Selecting previously unselected package cuda-driver-dev-10-1.\n",
            "Preparing to unpack .../12-cuda-driver-dev-10-1_10.1.243-1_amd64.deb ...\n",
            "Unpacking cuda-driver-dev-10-1 (10.1.243-1) ...\n",
            "Selecting previously unselected package cuda-cudart-dev-10-1.\n",
            "Preparing to unpack .../13-cuda-cudart-dev-10-1_10.1.243-1_amd64.deb ...\n",
            "Unpacking cuda-cudart-dev-10-1 (10.1.243-1) ...\n",
            "Selecting previously unselected package cuda-cupti-10-1.\n",
            "Preparing to unpack .../14-cuda-cupti-10-1_10.1.243-1_amd64.deb ...\n",
            "Unpacking cuda-cupti-10-1 (10.1.243-1) ...\n",
            "Selecting previously unselected package cuda-gpu-library-advisor-10-1.\n",
            "Preparing to unpack .../15-cuda-gpu-library-advisor-10-1_10.1.243-1_amd64.deb ...\n",
            "Unpacking cuda-gpu-library-advisor-10-1 (10.1.243-1) ...\n",
            "Selecting previously unselected package cuda-nvtx-10-1.\n",
            "Preparing to unpack .../16-cuda-nvtx-10-1_10.1.243-1_amd64.deb ...\n",
            "Unpacking cuda-nvtx-10-1 (10.1.243-1) ...\n",
            "Selecting previously unselected package cuda-command-line-tools-10-1.\n",
            "Preparing to unpack .../17-cuda-command-line-tools-10-1_10.1.243-1_amd64.deb ...\n",
            "Unpacking cuda-command-line-tools-10-1 (10.1.243-1) ...\n",
            "Selecting previously unselected package cuda-nsight-10-1.\n",
            "Preparing to unpack .../18-cuda-nsight-10-1_10.1.243-1_amd64.deb ...\n",
            "Unpacking cuda-nsight-10-1 (10.1.243-1) ...\n",
            "Selecting previously unselected package cuda-nvvp-10-1.\n",
            "Preparing to unpack .../19-cuda-nvvp-10-1_10.1.243-1_amd64.deb ...\n",
            "Unpacking cuda-nvvp-10-1 (10.1.243-1) ...\n",
            "Selecting previously unselected package cuda-nvrtc-10-1.\n",
            "Preparing to unpack .../20-cuda-nvrtc-10-1_10.1.243-1_amd64.deb ...\n",
            "Unpacking cuda-nvrtc-10-1 (10.1.243-1) ...\n",
            "Selecting previously unselected package cuda-nvrtc-dev-10-1.\n",
            "Preparing to unpack .../21-cuda-nvrtc-dev-10-1_10.1.243-1_amd64.deb ...\n",
            "Unpacking cuda-nvrtc-dev-10-1 (10.1.243-1) ...\n",
            "Selecting previously unselected package cuda-cusolver-10-1.\n",
            "Preparing to unpack .../22-cuda-cusolver-10-1_10.1.243-1_amd64.deb ...\n",
            "Unpacking cuda-cusolver-10-1 (10.1.243-1) ...\n",
            "Selecting previously unselected package cuda-cusolver-dev-10-1.\n",
            "Preparing to unpack .../23-cuda-cusolver-dev-10-1_10.1.243-1_amd64.deb ...\n",
            "Unpacking cuda-cusolver-dev-10-1 (10.1.243-1) ...\n",
            "Selecting previously unselected package libcublas10.\n",
            "Preparing to unpack .../24-libcublas10_10.2.1.243-1_amd64.deb ...\n",
            "Unpacking libcublas10 (10.2.1.243-1) ...\n",
            "Selecting previously unselected package libcublas-dev.\n",
            "Preparing to unpack .../25-libcublas-dev_10.2.1.243-1_amd64.deb ...\n",
            "Unpacking libcublas-dev (10.2.1.243-1) ...\n",
            "Selecting previously unselected package cuda-cufft-10-1.\n",
            "Preparing to unpack .../26-cuda-cufft-10-1_10.1.243-1_amd64.deb ...\n",
            "Unpacking cuda-cufft-10-1 (10.1.243-1) ...\n",
            "Selecting previously unselected package cuda-cufft-dev-10-1.\n",
            "Preparing to unpack .../27-cuda-cufft-dev-10-1_10.1.243-1_amd64.deb ...\n",
            "Unpacking cuda-cufft-dev-10-1 (10.1.243-1) ...\n",
            "Selecting previously unselected package cuda-curand-10-1.\n",
            "Preparing to unpack .../28-cuda-curand-10-1_10.1.243-1_amd64.deb ...\n",
            "Unpacking cuda-curand-10-1 (10.1.243-1) ...\n",
            "Selecting previously unselected package cuda-curand-dev-10-1.\n",
            "Preparing to unpack .../29-cuda-curand-dev-10-1_10.1.243-1_amd64.deb ...\n",
            "Unpacking cuda-curand-dev-10-1 (10.1.243-1) ...\n",
            "Selecting previously unselected package cuda-cusparse-10-1.\n",
            "Preparing to unpack .../30-cuda-cusparse-10-1_10.1.243-1_amd64.deb ...\n",
            "Unpacking cuda-cusparse-10-1 (10.1.243-1) ...\n",
            "Selecting previously unselected package cuda-cusparse-dev-10-1.\n",
            "Preparing to unpack .../31-cuda-cusparse-dev-10-1_10.1.243-1_amd64.deb ...\n",
            "Unpacking cuda-cusparse-dev-10-1 (10.1.243-1) ...\n",
            "Selecting previously unselected package cuda-npp-10-1.\n",
            "Preparing to unpack .../32-cuda-npp-10-1_10.1.243-1_amd64.deb ...\n",
            "Unpacking cuda-npp-10-1 (10.1.243-1) ...\n",
            "Selecting previously unselected package cuda-npp-dev-10-1.\n",
            "Preparing to unpack .../33-cuda-npp-dev-10-1_10.1.243-1_amd64.deb ...\n",
            "Unpacking cuda-npp-dev-10-1 (10.1.243-1) ...\n",
            "Selecting previously unselected package cuda-nvml-dev-10-1.\n",
            "Preparing to unpack .../34-cuda-nvml-dev-10-1_10.1.243-1_amd64.deb ...\n",
            "Unpacking cuda-nvml-dev-10-1 (10.1.243-1) ...\n",
            "Selecting previously unselected package cuda-nvjpeg-10-1.\n",
            "Preparing to unpack .../35-cuda-nvjpeg-10-1_10.1.243-1_amd64.deb ...\n",
            "Unpacking cuda-nvjpeg-10-1 (10.1.243-1) ...\n",
            "Selecting previously unselected package cuda-nvjpeg-dev-10-1.\n",
            "Preparing to unpack .../36-cuda-nvjpeg-dev-10-1_10.1.243-1_amd64.deb ...\n",
            "Unpacking cuda-nvjpeg-dev-10-1 (10.1.243-1) ...\n",
            "Selecting previously unselected package cuda-nsight-compute-10-1.\n",
            "Preparing to unpack .../37-cuda-nsight-compute-10-1_10.1.243-1_amd64.deb ...\n",
            "Unpacking cuda-nsight-compute-10-1 (10.1.243-1) ...\n",
            "Selecting previously unselected package cuda-nsight-systems-10-1.\n",
            "Preparing to unpack .../38-cuda-nsight-systems-10-1_10.1.243-1_amd64.deb ...\n",
            "Unpacking cuda-nsight-systems-10-1 (10.1.243-1) ...\n",
            "Selecting previously unselected package cuda-nvgraph-10-1.\n",
            "Preparing to unpack .../39-cuda-nvgraph-10-1_10.1.243-1_amd64.deb ...\n",
            "Unpacking cuda-nvgraph-10-1 (10.1.243-1) ...\n",
            "Selecting previously unselected package cuda-nvgraph-dev-10-1.\n",
            "Preparing to unpack .../40-cuda-nvgraph-dev-10-1_10.1.243-1_amd64.deb ...\n",
            "Unpacking cuda-nvgraph-dev-10-1 (10.1.243-1) ...\n",
            "Selecting previously unselected package cuda-visual-tools-10-1.\n",
            "Preparing to unpack .../41-cuda-visual-tools-10-1_10.1.243-1_amd64.deb ...\n",
            "Unpacking cuda-visual-tools-10-1 (10.1.243-1) ...\n",
            "Selecting previously unselected package cuda-tools-10-1.\n",
            "Preparing to unpack .../42-cuda-tools-10-1_10.1.243-1_amd64.deb ...\n",
            "Unpacking cuda-tools-10-1 (10.1.243-1) ...\n",
            "Selecting previously unselected package freeglut3:amd64.\n",
            "Preparing to unpack .../43-freeglut3_2.8.1-3_amd64.deb ...\n",
            "Unpacking freeglut3:amd64 (2.8.1-3) ...\n",
            "Selecting previously unselected package freeglut3-dev:amd64.\n",
            "Preparing to unpack .../44-freeglut3-dev_2.8.1-3_amd64.deb ...\n",
            "Unpacking freeglut3-dev:amd64 (2.8.1-3) ...\n",
            "Selecting previously unselected package libxmu-headers.\n",
            "Preparing to unpack .../45-libxmu-headers_2%3a1.1.3-0ubuntu1_all.deb ...\n",
            "Unpacking libxmu-headers (2:1.1.3-0ubuntu1) ...\n",
            "Selecting previously unselected package libxmu-dev:amd64.\n",
            "Preparing to unpack .../46-libxmu-dev_2%3a1.1.3-0ubuntu1_amd64.deb ...\n",
            "Unpacking libxmu-dev:amd64 (2:1.1.3-0ubuntu1) ...\n",
            "Selecting previously unselected package libxfixes-dev:amd64.\n",
            "Preparing to unpack .../47-libxfixes-dev_1%3a5.0.3-2_amd64.deb ...\n",
            "Unpacking libxfixes-dev:amd64 (1:5.0.3-2) ...\n",
            "Selecting previously unselected package x11proto-input-dev.\n",
            "Preparing to unpack .../48-x11proto-input-dev_2019.2-1ubuntu1_all.deb ...\n",
            "Unpacking x11proto-input-dev (2019.2-1ubuntu1) ...\n",
            "Selecting previously unselected package libxi-dev:amd64.\n",
            "Preparing to unpack .../49-libxi-dev_2%3a1.7.10-0ubuntu1_amd64.deb ...\n",
            "Unpacking libxi-dev:amd64 (2:1.7.10-0ubuntu1) ...\n",
            "Selecting previously unselected package cuda-samples-10-1.\n",
            "Preparing to unpack .../50-cuda-samples-10-1_10.1.243-1_amd64.deb ...\n",
            "Unpacking cuda-samples-10-1 (10.1.243-1) ...\n",
            "Selecting previously unselected package cuda-documentation-10-1.\n",
            "Preparing to unpack .../51-cuda-documentation-10-1_10.1.243-1_amd64.deb ...\n",
            "Unpacking cuda-documentation-10-1 (10.1.243-1) ...\n",
            "Selecting previously unselected package cuda-libraries-dev-10-1.\n",
            "Preparing to unpack .../52-cuda-libraries-dev-10-1_10.1.243-1_amd64.deb ...\n",
            "Unpacking cuda-libraries-dev-10-1 (10.1.243-1) ...\n",
            "Selecting previously unselected package cuda-toolkit-10-1.\n",
            "Preparing to unpack .../53-cuda-toolkit-10-1_10.1.243-1_amd64.deb ...\n",
            "Unpacking cuda-toolkit-10-1 (10.1.243-1) ...\n",
            "Selecting previously unselected package cuda-libraries-10-1.\n",
            "Preparing to unpack .../54-cuda-libraries-10-1_10.1.243-1_amd64.deb ...\n",
            "Unpacking cuda-libraries-10-1 (10.1.243-1) ...\n",
            "Selecting previously unselected package cuda-runtime-10-1.\n",
            "Preparing to unpack .../55-cuda-runtime-10-1_10.1.243-1_amd64.deb ...\n",
            "Unpacking cuda-runtime-10-1 (10.1.243-1) ...\n",
            "Selecting previously unselected package cuda-demo-suite-10-1.\n",
            "Preparing to unpack .../56-cuda-demo-suite-10-1_10.1.243-1_amd64.deb ...\n",
            "Unpacking cuda-demo-suite-10-1 (10.1.243-1) ...\n",
            "Selecting previously unselected package cuda-10-1.\n",
            "Preparing to unpack .../57-cuda-10-1_10.1.243-1_amd64.deb ...\n",
            "Unpacking cuda-10-1 (10.1.243-1) ...\n",
            "Setting up libxmu-headers (2:1.1.3-0ubuntu1) ...\n",
            "Setting up freeglut3:amd64 (2.8.1-3) ...\n",
            "Setting up libxmu-dev:amd64 (2:1.1.3-0ubuntu1) ...\n",
            "Setting up libxfixes-dev:amd64 (1:5.0.3-2) ...\n",
            "Setting up cuda-license-10-1 (10.1.243-1) ...\n",
            "*** LICENSE AGREEMENT ***\n",
            "By using this software you agree to fully comply with the terms and \n",
            "conditions of the EULA (End User License Agreement). The EULA is located\n",
            "at /usr/local/cuda-10.1/doc/EULA.txt. The EULA can also be found at\n",
            "http://docs.nvidia.com/cuda/eula/index.html. If you do not agree to the\n",
            "terms and conditions of the EULA, do not use the software.\n",
            "\n",
            "Setting up cuda-nvml-dev-10-1 (10.1.243-1) ...\n",
            "Setting up freeglut3-dev:amd64 (2.8.1-3) ...\n",
            "Setting up cuda-driver-dev-10-1 (10.1.243-1) ...\n",
            "Setting up cuda-sanitizer-api-10-1 (10.1.243-1) ...\n",
            "Setting up cuda-npp-10-1 (10.1.243-1) ...\n",
            "Setting up x11proto-input-dev (2019.2-1ubuntu1) ...\n",
            "Setting up cuda-gpu-library-advisor-10-1 (10.1.243-1) ...\n",
            "Setting up cuda-npp-dev-10-1 (10.1.243-1) ...\n",
            "Setting up cuda-nvdisasm-10-1 (10.1.243-1) ...\n",
            "Setting up cuda-cufft-10-1 (10.1.243-1) ...\n",
            "Setting up libxi-dev:amd64 (2:1.7.10-0ubuntu1) ...\n",
            "Setting up cuda-cufft-dev-10-1 (10.1.243-1) ...\n",
            "Setting up cuda-cudart-10-1 (10.1.243-1) ...\n",
            "Setting up cuda-nvgraph-10-1 (10.1.243-1) ...\n",
            "Setting up cuda-misc-headers-10-1 (10.1.243-1) ...\n",
            "Setting up cuda-cusolver-10-1 (10.1.243-1) ...\n",
            "Setting up cuda-nvvp-10-1 (10.1.243-1) ...\n",
            "Setting up cuda-nsight-10-1 (10.1.243-1) ...\n",
            "Setting up libcublas10 (10.2.1.243-1) ...\n",
            "Setting up cuda-cusparse-10-1 (10.1.243-1) ...\n",
            "Setting up cuda-nsight-compute-10-1 (10.1.243-1) ...\n",
            "Setting up cuda-memcheck-10-1 (10.1.243-1) ...\n",
            "Setting up cuda-cuobjdump-10-1 (10.1.243-1) ...\n",
            "Setting up cuda-nvprune-10-1 (10.1.243-1) ...\n",
            "Setting up cuda-nsight-systems-10-1 (10.1.243-1) ...\n",
            "Setting up cuda-nvrtc-10-1 (10.1.243-1) ...\n",
            "Setting up cuda-nvtx-10-1 (10.1.243-1) ...\n",
            "Setting up libcublas-dev (10.2.1.243-1) ...\n",
            "Setting up cuda-nvgraph-dev-10-1 (10.1.243-1) ...\n",
            "Setting up cuda-nvjpeg-10-1 (10.1.243-1) ...\n",
            "Setting up cuda-nvprof-10-1 (10.1.243-1) ...\n",
            "Setting up cuda-nvjpeg-dev-10-1 (10.1.243-1) ...\n",
            "Setting up cuda-curand-10-1 (10.1.243-1) ...\n",
            "Setting up cuda-nvcc-10-1 (10.1.243-1) ...\n",
            "Setting up cuda-curand-dev-10-1 (10.1.243-1) ...\n",
            "Setting up cuda-cudart-dev-10-1 (10.1.243-1) ...\n",
            "Setting up cuda-gdb-10-1 (10.1.243-1) ...\n",
            "Setting up cuda-compiler-10-1 (10.1.243-1) ...\n",
            "Setting up cuda-cusolver-dev-10-1 (10.1.243-1) ...\n",
            "Setting up cuda-cusparse-dev-10-1 (10.1.243-1) ...\n",
            "Setting up cuda-nvrtc-dev-10-1 (10.1.243-1) ...\n",
            "Setting up cuda-visual-tools-10-1 (10.1.243-1) ...\n",
            "Setting up cuda-libraries-10-1 (10.1.243-1) ...\n",
            "Setting up cuda-cupti-10-1 (10.1.243-1) ...\n",
            "Setting up cuda-samples-10-1 (10.1.243-1) ...\n",
            "Setting up cuda-libraries-dev-10-1 (10.1.243-1) ...\n",
            "Setting up cuda-command-line-tools-10-1 (10.1.243-1) ...\n",
            "Setting up cuda-runtime-10-1 (10.1.243-1) ...\n",
            "Setting up cuda-documentation-10-1 (10.1.243-1) ...\n",
            "Setting up cuda-tools-10-1 (10.1.243-1) ...\n",
            "Setting up cuda-toolkit-10-1 (10.1.243-1) ...\n",
            "Setting up cuda-demo-suite-10-1 (10.1.243-1) ...\n",
            "Setting up cuda-10-1 (10.1.243-1) ...\n",
            "Processing triggers for man-db (2.9.1-1) ...\n",
            "Processing triggers for libc-bin (2.31-0ubuntu9.9) ...\n"
          ]
        }
      ]
    },
    {
      "cell_type": "code",
      "source": [
        "!sudo apt --fix-broken install\n"
      ],
      "metadata": {
        "colab": {
          "base_uri": "https://localhost:8080/"
        },
        "id": "a4hXane8XqMA",
        "outputId": "ef34d2c6-eb37-48c8-9dfc-0969df2cbd0f"
      },
      "execution_count": 4,
      "outputs": [
        {
          "output_type": "stream",
          "name": "stdout",
          "text": [
            "Reading package lists... Done\n",
            "Building dependency tree       \n",
            "Reading state information... Done\n",
            "0 upgraded, 0 newly installed, 0 to remove and 27 not upgraded.\n"
          ]
        }
      ]
    },
    {
      "cell_type": "code",
      "source": [
        "!echo 'export PATH=/usr/local/cuda-10.1/bin:$PATH' >> ~/.bashrc\n",
        "!echo 'export LD_LIBRARY_PATH=/usr/local/cuda-10.1/lib64:$LD_LIBRARY_PATH' >> ~/.bashrc\n",
        "!source ~/.bashrc\n"
      ],
      "metadata": {
        "id": "1bBTRnYkXuze"
      },
      "execution_count": 5,
      "outputs": []
    },
    {
      "cell_type": "code",
      "source": [
        "!nvcc --version\n"
      ],
      "metadata": {
        "colab": {
          "base_uri": "https://localhost:8080/"
        },
        "id": "xxhZqnhzYqYt",
        "outputId": "fd1926f3-ced7-4d4f-9cf6-567478082731"
      },
      "execution_count": 6,
      "outputs": [
        {
          "output_type": "stream",
          "name": "stdout",
          "text": [
            "nvcc: NVIDIA (R) Cuda compiler driver\n",
            "Copyright (c) 2005-2019 NVIDIA Corporation\n",
            "Built on Sun_Jul_28_19:07:16_PDT_2019\n",
            "Cuda compilation tools, release 10.1, V10.1.243\n"
          ]
        }
      ]
    },
    {
      "cell_type": "code",
      "metadata": {
        "id": "-deL2jxXoMEF",
        "colab": {
          "base_uri": "https://localhost:8080/"
        },
        "outputId": "832ed370-dbf1-4b61-bb1a-b53a94a993fa"
      },
      "source": [
        "11# wgisd\n",
        "%cd /content/\n",
        "!git clone https://github.com/thsant/wgisd.git"
      ],
      "execution_count": 7,
      "outputs": [
        {
          "output_type": "stream",
          "name": "stdout",
          "text": [
            "/content\n",
            "Cloning into 'wgisd'...\n",
            "remote: Enumerating objects: 4267, done.\u001b[K\n",
            "remote: Counting objects: 100% (867/867), done.\u001b[K\n",
            "remote: Compressing objects: 100% (841/841), done.\u001b[K\n",
            "remote: Total 4267 (delta 27), reused 859 (delta 24), pack-reused 3400\u001b[K\n",
            "Receiving objects: 100% (4267/4267), 1.39 GiB | 15.26 MiB/s, done.\n",
            "Resolving deltas: 100% (350/350), done.\n",
            "Updating files: 100% (1853/1853), done.\n"
          ]
        }
      ]
    },
    {
      "cell_type": "code",
      "source": [
        "!python --version"
      ],
      "metadata": {
        "colab": {
          "base_uri": "https://localhost:8080/"
        },
        "id": "mVcHDTRO7SXI",
        "outputId": "730dc9ad-e5f5-4b59-ebeb-4e10d76f6644"
      },
      "execution_count": 8,
      "outputs": [
        {
          "output_type": "stream",
          "name": "stdout",
          "text": [
            "Python 3.8.10\n"
          ]
        }
      ]
    },
    {
      "cell_type": "code",
      "metadata": {
        "id": "njsm9-4mhEuL",
        "colab": {
          "base_uri": "https://localhost:8080/",
          "height": 1000
        },
        "outputId": "c5d6b58b-29a0-4e62-bf76-e0614ea15e7c"
      },
      "source": [
        "%cd /content\n",
        "# install dependencies: (use cu101 because colab has CUDA 10.1)\n",
        "'!pip install -U torch==1.5.1+cu101 torchvision==0.6.1+cu101 -f https://download.pytorch.org/whl/torch_stable.html'\n",
        "'https://download.openmmlab.com/mmcv/dist/cu101/torch1.5.0/index.html'\n",
        "!pip install apex -f https://dl.fbaipublicfiles.com/vissl/packaging/apexwheels/py37_cu101_pyt151/download.html\n",
        "\n",
        "# install mmcv-full thus we could use CUDA operators\n",
        "'!pip install mmcv-full==1.3.0 -f https://download.openmmlab.com/mmcv/dist/cu101/torch1.5.0/index.html'\n",
        "!pip install mmcv-full==1.3.0 -f https://download.openmmlab.com/mmcv/dist/cu101/torch1.7.0/index.html\n",
        "\n",
        "# Install mmdetection\n",
        "!rm -rf mmdetection\n",
        "!git clone https://github.com/SwinTransformer/Swin-Transformer-Semantic-Segmentation.git\n",
        "!git clone https://github.com/open-mmlab/mmsegmentation.git\n",
        "%cd mmsegmentation/\n",
        "\n",
        "!pip install -e .\n",
        "\n",
        "# install Pillow 7.0.0 back in order to avoid bug in colab\n",
        "!pip install Pillow==7.0.0\n",
        "\n",
        "%cd /content/Swin-Transformer-Semantic-Segmentation/\n",
        "!python setup.py develop\n",
        "!pip install git+https://github.com/rwightman/pytorch-image-models.git"
      ],
      "execution_count": 9,
      "outputs": [
        {
          "output_type": "stream",
          "name": "stdout",
          "text": [
            "/content\n",
            "Looking in indexes: https://pypi.org/simple, https://us-python.pkg.dev/colab-wheels/public/simple/\n",
            "Looking in links: https://dl.fbaipublicfiles.com/vissl/packaging/apexwheels/py37_cu101_pyt151/download.html\n",
            "Collecting apex\n",
            "  Downloading apex-0.9.10dev.tar.gz (36 kB)\n",
            "Collecting cryptacular\n",
            "  Downloading cryptacular-1.6.2.tar.gz (75 kB)\n",
            "\u001b[K     |████████████████████████████████| 75 kB 4.8 MB/s \n",
            "\u001b[?25h  Installing build dependencies ... \u001b[?25l\u001b[?25hdone\n",
            "  Getting requirements to build wheel ... \u001b[?25l\u001b[?25hdone\n",
            "    Preparing wheel metadata ... \u001b[?25l\u001b[?25hdone\n",
            "Collecting pyramid>1.1.2\n",
            "  Downloading pyramid-2.0.1-py3-none-any.whl (246 kB)\n",
            "\u001b[K     |████████████████████████████████| 246 kB 74.1 MB/s \n",
            "\u001b[?25hCollecting pyramid_mailer\n",
            "  Downloading pyramid_mailer-0.15.1-py2.py3-none-any.whl (19 kB)\n",
            "Collecting requests\n",
            "  Downloading requests-2.28.2-py3-none-any.whl (62 kB)\n",
            "\u001b[K     |████████████████████████████████| 62 kB 1.6 MB/s \n",
            "\u001b[?25hCollecting velruse>=1.0.3\n",
            "  Downloading velruse-1.1.1.tar.gz (709 kB)\n",
            "\u001b[K     |████████████████████████████████| 709 kB 60.6 MB/s \n",
            "\u001b[?25hCollecting wtforms\n",
            "  Downloading WTForms-3.0.1-py3-none-any.whl (136 kB)\n",
            "\u001b[K     |████████████████████████████████| 136 kB 58.5 MB/s \n",
            "\u001b[?25hCollecting wtforms-recaptcha\n",
            "  Downloading wtforms_recaptcha-0.3.2-py2.py3-none-any.whl (7.5 kB)\n",
            "Collecting zope.sqlalchemy\n",
            "  Downloading zope.sqlalchemy-2.0-py3-none-any.whl (22 kB)\n",
            "Requirement already satisfied: setuptools in /usr/lib/python3/dist-packages (from cryptacular->apex) (45.2.0)\n",
            "Collecting pbkdf2\n",
            "  Downloading pbkdf2-1.3.tar.gz (6.4 kB)\n",
            "Collecting hupper>=1.5\n",
            "  Downloading hupper-1.11-py3-none-any.whl (25 kB)\n",
            "Collecting zope.interface>=3.8.0\n",
            "  Downloading zope.interface-5.5.2-cp38-cp38-manylinux_2_5_x86_64.manylinux1_x86_64.manylinux_2_12_x86_64.manylinux2010_x86_64.whl (261 kB)\n",
            "\u001b[K     |████████████████████████████████| 261 kB 67.9 MB/s \n",
            "\u001b[?25hCollecting plaster\n",
            "  Downloading plaster-1.1.2-py2.py3-none-any.whl (11 kB)\n",
            "Collecting webob>=1.8.3\n",
            "  Downloading WebOb-1.8.7-py2.py3-none-any.whl (114 kB)\n",
            "\u001b[K     |████████████████████████████████| 114 kB 72.4 MB/s \n",
            "\u001b[?25hCollecting venusian>=1.0\n",
            "  Downloading venusian-3.0.0-py3-none-any.whl (13 kB)\n",
            "Collecting plaster-pastedeploy\n",
            "  Downloading plaster_pastedeploy-1.0.1-py2.py3-none-any.whl (7.8 kB)\n",
            "Collecting zope.deprecation>=3.5.0\n",
            "  Downloading zope.deprecation-4.4.0-py2.py3-none-any.whl (10 kB)\n",
            "Collecting translationstring>=0.4\n",
            "  Downloading translationstring-1.4-py2.py3-none-any.whl (15 kB)\n",
            "Collecting repoze.sendmail>=4.1\n",
            "  Downloading repoze.sendmail-4.4.1-py2.py3-none-any.whl (41 kB)\n",
            "\u001b[K     |████████████████████████████████| 41 kB 46 kB/s \n",
            "\u001b[?25hCollecting transaction\n",
            "  Downloading transaction-3.0.1-py2.py3-none-any.whl (47 kB)\n",
            "\u001b[K     |████████████████████████████████| 47 kB 4.7 MB/s \n",
            "\u001b[?25hCollecting idna<4,>=2.5\n",
            "  Downloading idna-3.4-py3-none-any.whl (61 kB)\n",
            "\u001b[K     |████████████████████████████████| 61 kB 84 kB/s \n",
            "\u001b[?25hCollecting charset-normalizer<4,>=2\n",
            "  Downloading charset_normalizer-3.1.0-cp38-cp38-manylinux_2_17_x86_64.manylinux2014_x86_64.whl (195 kB)\n",
            "\u001b[K     |████████████████████████████████| 195 kB 69.1 MB/s \n",
            "\u001b[?25hCollecting certifi>=2017.4.17\n",
            "  Downloading certifi-2022.12.7-py3-none-any.whl (155 kB)\n",
            "\u001b[K     |████████████████████████████████| 155 kB 60.9 MB/s \n",
            "\u001b[?25hCollecting urllib3<1.27,>=1.21.1\n",
            "  Downloading urllib3-1.26.15-py2.py3-none-any.whl (140 kB)\n",
            "\u001b[K     |████████████████████████████████| 140 kB 68.3 MB/s \n",
            "\u001b[?25hCollecting anykeystore\n",
            "  Downloading anykeystore-0.2.tar.gz (10 kB)\n",
            "Collecting python3-openid\n",
            "  Downloading python3_openid-3.2.0-py3-none-any.whl (133 kB)\n",
            "\u001b[K     |████████████████████████████████| 133 kB 70.3 MB/s \n",
            "\u001b[?25hCollecting requests-oauthlib\n",
            "  Downloading requests_oauthlib-1.3.1-py2.py3-none-any.whl (23 kB)\n",
            "Collecting MarkupSafe\n",
            "  Downloading MarkupSafe-2.1.2-cp38-cp38-manylinux_2_17_x86_64.manylinux2014_x86_64.whl (25 kB)\n",
            "Collecting SQLAlchemy!=1.4.0,!=1.4.1,!=1.4.2,!=1.4.3,!=1.4.4,!=1.4.5,!=1.4.6,<2,>=1.1\n",
            "  Downloading SQLAlchemy-1.4.46-cp38-cp38-manylinux_2_5_x86_64.manylinux1_x86_64.manylinux_2_17_x86_64.manylinux2014_x86_64.whl (1.6 MB)\n",
            "\u001b[K     |████████████████████████████████| 1.6 MB 51.0 MB/s \n",
            "\u001b[?25hCollecting PasteDeploy>=2.0\n",
            "  Downloading PasteDeploy-3.0.1-py3-none-any.whl (16 kB)\n",
            "Collecting defusedxml\n",
            "  Downloading defusedxml-0.7.1-py2.py3-none-any.whl (25 kB)\n",
            "Collecting oauthlib>=3.0.0\n",
            "  Downloading oauthlib-3.2.2-py3-none-any.whl (151 kB)\n",
            "\u001b[K     |████████████████████████████████| 151 kB 74.6 MB/s \n",
            "\u001b[?25hCollecting greenlet!=0.4.17; python_version >= \"3\" and (platform_machine == \"aarch64\" or (platform_machine == \"ppc64le\" or (platform_machine == \"x86_64\" or (platform_machine == \"amd64\" or (platform_machine == \"AMD64\" or (platform_machine == \"win32\" or platform_machine == \"WIN32\"))))))\n",
            "  Downloading greenlet-2.0.2-cp38-cp38-manylinux_2_17_x86_64.manylinux2014_x86_64.whl (618 kB)\n",
            "\u001b[K     |████████████████████████████████| 618 kB 61.4 MB/s \n",
            "\u001b[?25hBuilding wheels for collected packages: apex, cryptacular, velruse, pbkdf2, anykeystore\n",
            "  Building wheel for apex (setup.py) ... \u001b[?25l\u001b[?25hdone\n",
            "  Created wheel for apex: filename=apex-0.9.10.dev0-py3-none-any.whl size=46467 sha256=6cebefede2e297b3bdcb19e168d391c427ceb1c9d26ec1a620e9f00f6b45f8a0\n",
            "  Stored in directory: /root/.cache/pip/wheels/09/6a/6f/95af6942b4f627ec422765dcffb665a000b8432c982ff67045\n",
            "  Building wheel for cryptacular (PEP 517) ... \u001b[?25l\u001b[?25hdone\n",
            "  Created wheel for cryptacular: filename=cryptacular-1.6.2-cp38-cp38-linux_x86_64.whl size=58068 sha256=2c89569040d404f3dcedc1a8796461a5cb5e7bf12f9afc89add78c73f097e3b9\n",
            "  Stored in directory: /root/.cache/pip/wheels/42/0e/3f/ae80d1aba7da71d30038142c4c6922b05b03ba15df20e40143\n",
            "  Building wheel for velruse (setup.py) ... \u001b[?25l\u001b[?25hdone\n",
            "  Created wheel for velruse: filename=velruse-1.1.1-py3-none-any.whl size=50921 sha256=4420f10c0fc450cf5df28c559c42c3c320f8f0184f49eabf8f12d0b3f2b534c5\n",
            "  Stored in directory: /root/.cache/pip/wheels/6a/75/d1/acf6bc66263e644c145ee1ed5e9ed3f1225043550ad506d4a7\n",
            "  Building wheel for pbkdf2 (setup.py) ... \u001b[?25l\u001b[?25hdone\n",
            "  Created wheel for pbkdf2: filename=pbkdf2-1.3-py3-none-any.whl size=5102 sha256=ab1318c0b2161f9d3b402dfe974b8bbc1d1a04f314553b6ab22cf262c9317baa\n",
            "  Stored in directory: /root/.cache/pip/wheels/8a/bc/b5/384fdb7fc125e4d3d25b92eb8365b87c8b652a7096fcdcc16e\n",
            "  Building wheel for anykeystore (setup.py) ... \u001b[?25l\u001b[?25hdone\n",
            "  Created wheel for anykeystore: filename=anykeystore-0.2-py3-none-any.whl size=17027 sha256=9ea01f99b0fbd4898d1f5136acc14ff6fe007af9dcde9659e2fcc1e1d352b4bd\n",
            "  Stored in directory: /root/.cache/pip/wheels/32/b2/a2/7e7725cfa204e1d7b54ba5fa2fcccd01c666353d61d9fb00c0\n",
            "Successfully built apex cryptacular velruse pbkdf2 anykeystore\n",
            "Installing collected packages: pbkdf2, cryptacular, hupper, zope.interface, plaster, webob, venusian, PasteDeploy, plaster-pastedeploy, zope.deprecation, translationstring, pyramid, transaction, repoze.sendmail, pyramid-mailer, idna, charset-normalizer, certifi, urllib3, requests, anykeystore, defusedxml, python3-openid, oauthlib, requests-oauthlib, velruse, MarkupSafe, wtforms, wtforms-recaptcha, greenlet, SQLAlchemy, zope.sqlalchemy, apex\n",
            "Successfully installed MarkupSafe-2.1.2 PasteDeploy-3.0.1 SQLAlchemy-1.4.46 anykeystore-0.2 apex-0.9.10.dev0 certifi-2022.12.7 charset-normalizer-3.1.0 cryptacular-1.6.2 defusedxml-0.7.1 greenlet-2.0.2 hupper-1.11 idna-3.4 oauthlib-3.2.2 pbkdf2-1.3 plaster-1.1.2 plaster-pastedeploy-1.0.1 pyramid-2.0.1 pyramid-mailer-0.15.1 python3-openid-3.2.0 repoze.sendmail-4.4.1 requests-2.28.2 requests-oauthlib-1.3.1 transaction-3.0.1 translationstring-1.4 urllib3-1.26.15 velruse-1.1.1 venusian-3.0.0 webob-1.8.7 wtforms-3.0.1 wtforms-recaptcha-0.3.2 zope.deprecation-4.4.0 zope.interface-5.5.2 zope.sqlalchemy-2.0\n"
          ]
        },
        {
          "output_type": "display_data",
          "data": {
            "application/vnd.colab-display-data+json": {
              "pip_warning": {
                "packages": [
                  "certifi",
                  "defusedxml"
                ]
              }
            }
          },
          "metadata": {}
        },
        {
          "output_type": "stream",
          "name": "stdout",
          "text": [
            "Looking in indexes: https://pypi.org/simple, https://us-python.pkg.dev/colab-wheels/public/simple/\n",
            "Looking in links: https://download.openmmlab.com/mmcv/dist/cu101/torch1.7.0/index.html\n",
            "Collecting mmcv-full==1.3.0\n",
            "  Downloading https://download.openmmlab.com/mmcv/dist/cu101/torch1.7.0/mmcv_full-1.3.0-cp38-cp38-manylinux1_x86_64.whl (24.8 MB)\n",
            "\u001b[K     |████████████████████████████████| 24.8 MB 1.2 MB/s \n",
            "\u001b[?25hCollecting pyyaml\n",
            "  Downloading PyYAML-6.0-cp38-cp38-manylinux_2_5_x86_64.manylinux1_x86_64.manylinux_2_12_x86_64.manylinux2010_x86_64.whl (701 kB)\n",
            "\u001b[K     |████████████████████████████████| 701 kB 47.2 MB/s \n",
            "\u001b[?25hCollecting Pillow\n",
            "  Downloading Pillow-9.4.0-cp38-cp38-manylinux_2_17_x86_64.manylinux2014_x86_64.whl (3.3 MB)\n",
            "\u001b[K     |████████████████████████████████| 3.3 MB 74.3 MB/s \n",
            "\u001b[?25hCollecting yapf\n",
            "  Downloading yapf-0.32.0-py2.py3-none-any.whl (190 kB)\n",
            "\u001b[K     |████████████████████████████████| 190 kB 77.7 MB/s \n",
            "\u001b[?25hCollecting addict\n",
            "  Downloading addict-2.4.0-py3-none-any.whl (3.8 kB)\n",
            "Collecting opencv-python>=3\n",
            "  Downloading opencv_python-4.7.0.72-cp37-abi3-manylinux_2_17_x86_64.manylinux2014_x86_64.whl (61.8 MB)\n",
            "\u001b[K     |████████████████████████████████| 61.8 MB 1.2 MB/s \n",
            "\u001b[?25hCollecting numpy\n",
            "  Downloading numpy-1.24.2-cp38-cp38-manylinux_2_17_x86_64.manylinux2014_x86_64.whl (17.3 MB)\n",
            "\u001b[K     |████████████████████████████████| 17.3 MB 50.9 MB/s \n",
            "\u001b[?25hInstalling collected packages: pyyaml, Pillow, yapf, addict, numpy, opencv-python, mmcv-full\n",
            "Successfully installed Pillow-9.4.0 addict-2.4.0 mmcv-full-1.3.0 numpy-1.24.2 opencv-python-4.7.0.72 pyyaml-6.0 yapf-0.32.0\n",
            "Cloning into 'Swin-Transformer-Semantic-Segmentation'...\n",
            "remote: Enumerating objects: 2302, done.\u001b[K\n",
            "remote: Total 2302 (delta 0), reused 0 (delta 0), pack-reused 2302\u001b[K\n",
            "Receiving objects: 100% (2302/2302), 3.73 MiB | 6.23 MiB/s, done.\n",
            "Resolving deltas: 100% (1654/1654), done.\n",
            "Cloning into 'mmsegmentation'...\n",
            "remote: Enumerating objects: 13942, done.\u001b[K\n",
            "remote: Counting objects: 100% (19/19), done.\u001b[K\n",
            "remote: Compressing objects: 100% (19/19), done.\u001b[K\n",
            "remote: Total 13942 (delta 1), reused 10 (delta 0), pack-reused 13923\u001b[K\n",
            "Receiving objects: 100% (13942/13942), 16.07 MiB | 11.57 MiB/s, done.\n",
            "Resolving deltas: 100% (9956/9956), done.\n",
            "/content/mmsegmentation\n",
            "Looking in indexes: https://pypi.org/simple, https://us-python.pkg.dev/colab-wheels/public/simple/\n",
            "Obtaining file:///content/mmsegmentation\n",
            "Collecting matplotlib\n",
            "  Downloading matplotlib-3.7.1-cp38-cp38-manylinux_2_12_x86_64.manylinux2010_x86_64.whl (9.2 MB)\n",
            "\u001b[K     |████████████████████████████████| 9.2 MB 17.2 MB/s \n",
            "\u001b[?25hCollecting mmcls>=0.20.1\n",
            "  Downloading mmcls-0.25.0-py2.py3-none-any.whl (648 kB)\n",
            "\u001b[K     |████████████████████████████████| 648 kB 74.7 MB/s \n",
            "\u001b[?25hRequirement already satisfied: numpy in /usr/local/lib/python3.8/dist-packages (from mmsegmentation==0.30.0) (1.24.2)\n",
            "Collecting packaging\n",
            "  Using cached packaging-23.0-py3-none-any.whl (42 kB)\n",
            "Collecting prettytable\n",
            "  Downloading prettytable-3.6.0-py3-none-any.whl (27 kB)\n",
            "Requirement already satisfied: pillow>=6.2.0 in /usr/local/lib/python3.8/dist-packages (from matplotlib->mmsegmentation==0.30.0) (9.4.0)\n",
            "Collecting importlib-resources>=3.2.0; python_version < \"3.10\"\n",
            "  Downloading importlib_resources-5.12.0-py3-none-any.whl (36 kB)\n",
            "Collecting kiwisolver>=1.0.1\n",
            "  Downloading kiwisolver-1.4.4-cp38-cp38-manylinux_2_5_x86_64.manylinux1_x86_64.whl (1.2 MB)\n",
            "\u001b[K     |████████████████████████████████| 1.2 MB 68.4 MB/s \n",
            "\u001b[?25hCollecting python-dateutil>=2.7\n",
            "  Downloading python_dateutil-2.8.2-py2.py3-none-any.whl (247 kB)\n",
            "\u001b[K     |████████████████████████████████| 247 kB 79.7 MB/s \n",
            "\u001b[?25hCollecting cycler>=0.10\n",
            "  Downloading cycler-0.11.0-py3-none-any.whl (6.4 kB)\n",
            "Collecting pyparsing>=2.3.1\n",
            "  Downloading pyparsing-3.0.9-py3-none-any.whl (98 kB)\n",
            "\u001b[K     |████████████████████████████████| 98 kB 8.3 MB/s \n",
            "\u001b[?25hCollecting contourpy>=1.0.1\n",
            "  Downloading contourpy-1.0.7-cp38-cp38-manylinux_2_17_x86_64.manylinux2014_x86_64.whl (300 kB)\n",
            "\u001b[K     |████████████████████████████████| 300 kB 77.3 MB/s \n",
            "\u001b[?25hCollecting fonttools>=4.22.0\n",
            "  Downloading fonttools-4.39.0-py3-none-any.whl (1.0 MB)\n",
            "\u001b[K     |████████████████████████████████| 1.0 MB 75.6 MB/s \n",
            "\u001b[?25hCollecting wcwidth\n",
            "  Downloading wcwidth-0.2.6-py2.py3-none-any.whl (29 kB)\n",
            "Collecting zipp>=3.1.0; python_version < \"3.10\"\n",
            "  Downloading zipp-3.15.0-py3-none-any.whl (6.8 kB)\n",
            "Collecting six>=1.5\n",
            "  Downloading six-1.16.0-py2.py3-none-any.whl (11 kB)\n",
            "Installing collected packages: packaging, zipp, importlib-resources, kiwisolver, six, python-dateutil, cycler, pyparsing, contourpy, fonttools, matplotlib, mmcls, wcwidth, prettytable, mmsegmentation\n",
            "  Running setup.py develop for mmsegmentation\n",
            "Successfully installed contourpy-1.0.7 cycler-0.11.0 fonttools-4.39.0 importlib-resources-5.12.0 kiwisolver-1.4.4 matplotlib-3.7.1 mmcls-0.25.0 mmsegmentation packaging-23.0 prettytable-3.6.0 pyparsing-3.0.9 python-dateutil-2.8.2 six-1.16.0 wcwidth-0.2.6 zipp-3.15.0\n"
          ]
        },
        {
          "output_type": "display_data",
          "data": {
            "application/vnd.colab-display-data+json": {
              "pip_warning": {
                "packages": [
                  "cycler",
                  "dateutil",
                  "kiwisolver",
                  "wcwidth"
                ]
              }
            }
          },
          "metadata": {}
        },
        {
          "output_type": "stream",
          "name": "stdout",
          "text": [
            "Looking in indexes: https://pypi.org/simple, https://us-python.pkg.dev/colab-wheels/public/simple/\n",
            "Collecting Pillow==7.0.0\n",
            "  Downloading Pillow-7.0.0-cp38-cp38-manylinux1_x86_64.whl (2.1 MB)\n",
            "\u001b[K     |████████████████████████████████| 2.1 MB 19.1 MB/s \n",
            "\u001b[?25hInstalling collected packages: Pillow\n",
            "  Attempting uninstall: Pillow\n",
            "    Found existing installation: Pillow 9.4.0\n",
            "    Uninstalling Pillow-9.4.0:\n",
            "      Successfully uninstalled Pillow-9.4.0\n",
            "Successfully installed Pillow-7.0.0\n",
            "/content/Swin-Transformer-Semantic-Segmentation\n",
            "running develop\n",
            "running egg_info\n",
            "creating mmsegmentation.egg-info\n",
            "writing mmsegmentation.egg-info/PKG-INFO\n",
            "writing dependency_links to mmsegmentation.egg-info/dependency_links.txt\n",
            "writing requirements to mmsegmentation.egg-info/requires.txt\n",
            "writing top-level names to mmsegmentation.egg-info/top_level.txt\n",
            "writing manifest file 'mmsegmentation.egg-info/SOURCES.txt'\n",
            "reading manifest file 'mmsegmentation.egg-info/SOURCES.txt'\n",
            "writing manifest file 'mmsegmentation.egg-info/SOURCES.txt'\n",
            "running build_ext\n",
            "Creating /usr/local/lib/python3.8/dist-packages/mmsegmentation.egg-link (link to .)\n",
            "Removing mmsegmentation 0.30.0 from easy-install.pth file\n",
            "Adding mmsegmentation 0.11.0 to easy-install.pth file\n",
            "\n",
            "Installed /content/Swin-Transformer-Semantic-Segmentation\n",
            "Processing dependencies for mmsegmentation==0.11.0\n",
            "Searching for timm\n",
            "Reading https://pypi.org/simple/timm/\n",
            "Downloading https://files.pythonhosted.org/packages/9a/ff/0db148510417e6aa9797d82c2bda271297035f69c30f5e188398ee16c131/timm-0.8.15.dev0-py3-none-any.whl#sha256=4e69077241bac6fc04e9b5f28b5290f153ebbd6f164a01884dabffafe505c2f1\n",
            "Best match: timm 0.8.15.dev0\n",
            "Processing timm-0.8.15.dev0-py3-none-any.whl\n",
            "Installing timm-0.8.15.dev0-py3-none-any.whl to /usr/local/lib/python3.8/dist-packages\n",
            "Adding timm 0.8.15.dev0 to easy-install.pth file\n",
            "\n",
            "Installed /usr/local/lib/python3.8/dist-packages/timm-0.8.15.dev0-py3.8.egg\n",
            "Searching for terminaltables\n",
            "Reading https://pypi.org/simple/terminaltables/\n",
            "Downloading https://files.pythonhosted.org/packages/c4/fb/ea621e0a19733e01fe4005d46087d383693c0f4a8f824b47d8d4122c87e0/terminaltables-3.1.10-py2.py3-none-any.whl#sha256=e4fdc4179c9e4aab5f674d80f09d76fa436b96fdc698a8505e0a36bf0804a874\n",
            "Best match: terminaltables 3.1.10\n",
            "Processing terminaltables-3.1.10-py2.py3-none-any.whl\n",
            "Installing terminaltables-3.1.10-py2.py3-none-any.whl to /usr/local/lib/python3.8/dist-packages\n",
            "Adding terminaltables 3.1.10 to easy-install.pth file\n",
            "\n",
            "Installed /usr/local/lib/python3.8/dist-packages/terminaltables-3.1.10-py3.8.egg\n",
            "Searching for torchvision\n",
            "Reading https://pypi.org/simple/torchvision/\n",
            "Downloading https://files.pythonhosted.org/packages/7c/d8/353b695fc47b9e2210313874fedd76b7ea5e699f2b2dd674919a95c4a0f1/torchvision-0.14.1-cp38-cp38-manylinux1_x86_64.whl#sha256=0ed02aefd09bf1114d35f1aa7dce55aa61c2c7e57f9aa02dce362860be654e85\n",
            "Best match: torchvision 0.14.1\n",
            "Processing torchvision-0.14.1-cp38-cp38-manylinux1_x86_64.whl\n",
            "Installing torchvision-0.14.1-cp38-cp38-manylinux1_x86_64.whl to /usr/local/lib/python3.8/dist-packages\n",
            "Adding torchvision 0.14.1 to easy-install.pth file\n",
            "\n",
            "Installed /usr/local/lib/python3.8/dist-packages/torchvision-0.14.1-py3.8-linux-x86_64.egg\n",
            "Searching for torch>=1.7\n",
            "Reading https://pypi.org/simple/torch/\n",
            "Downloading https://files.pythonhosted.org/packages/6b/0e/c640bda79e61766896fe16dfe0a3ab12b06ad50cf8814950518896dec0a5/torch-1.13.1-cp38-cp38-manylinux1_x86_64.whl#sha256=727dbf00e2cf858052364c0e2a496684b9cb5aa01dc8a8bc8bbb7c54502bdcdd\n",
            "Best match: torch 1.13.1\n",
            "Processing torch-1.13.1-cp38-cp38-manylinux1_x86_64.whl\n",
            "Installing torch-1.13.1-cp38-cp38-manylinux1_x86_64.whl to /usr/local/lib/python3.8/dist-packages\n",
            "Adding torch 1.13.1 to easy-install.pth file\n",
            "Installing convert-caffe2-to-onnx script to /usr/local/bin\n",
            "Installing convert-onnx-to-caffe2 script to /usr/local/bin\n",
            "Installing torchrun script to /usr/local/bin\n",
            "\n",
            "Installed /usr/local/lib/python3.8/dist-packages/torch-1.13.1-py3.8-linux-x86_64.egg\n",
            "Searching for safetensors\n",
            "Reading https://pypi.org/simple/safetensors/\n",
            "Downloading https://files.pythonhosted.org/packages/4c/82/72effc1f427d511740904f4919a1d69cdcb9b7920ae79dfa2e5f23621f72/safetensors-0.3.0-cp38-cp38-manylinux_2_17_x86_64.manylinux2014_x86_64.whl#sha256=c1c08e9a46e67e4091a6fd7fadb02fa73f0a76ed3ac822b838f01e7b99e2039b\n",
            "Best match: safetensors 0.3.0\n",
            "Processing safetensors-0.3.0-cp38-cp38-manylinux_2_17_x86_64.manylinux2014_x86_64.whl\n",
            "Installing safetensors-0.3.0-cp38-cp38-manylinux_2_17_x86_64.manylinux2014_x86_64.whl to /usr/local/lib/python3.8/dist-packages\n",
            "Adding safetensors 0.3.0 to easy-install.pth file\n",
            "\n",
            "Installed /usr/local/lib/python3.8/dist-packages/safetensors-0.3.0-py3.8-linux-x86_64.egg\n",
            "Searching for huggingface-hub\n",
            "Reading https://pypi.org/simple/huggingface-hub/\n",
            "Downloading https://files.pythonhosted.org/packages/bf/59/1313190f66383772621727fe91955061505016805fd1f249e0763093760b/huggingface_hub-0.13.2-py3-none-any.whl#sha256=745c4cbd97a27fc5c1c6c89cb477662004c88bc3dd89bafc1a27ef24af77f944\n",
            "Best match: huggingface-hub 0.13.2\n",
            "Processing huggingface_hub-0.13.2-py3-none-any.whl\n",
            "Installing huggingface_hub-0.13.2-py3-none-any.whl to /usr/local/lib/python3.8/dist-packages\n",
            "Adding huggingface-hub 0.13.2 to easy-install.pth file\n",
            "Installing huggingface-cli script to /usr/local/bin\n",
            "\n",
            "Installed /usr/local/lib/python3.8/dist-packages/huggingface_hub-0.13.2-py3.8.egg\n",
            "Searching for typing-extensions\n",
            "Reading https://pypi.org/simple/typing-extensions/\n",
            "Downloading https://files.pythonhosted.org/packages/31/25/5abcd82372d3d4a3932e1fa8c3dbf9efac10cc7c0d16e78467460571b404/typing_extensions-4.5.0-py3-none-any.whl#sha256=fb33085c39dd998ac16d1431ebc293a8b3eedd00fd4a32de0ff79002c19511b4\n",
            "Best match: typing-extensions 4.5.0\n",
            "Processing typing_extensions-4.5.0-py3-none-any.whl\n",
            "Installing typing_extensions-4.5.0-py3-none-any.whl to /usr/local/lib/python3.8/dist-packages\n",
            "Adding typing-extensions 4.5.0 to easy-install.pth file\n",
            "\n",
            "Installed /usr/local/lib/python3.8/dist-packages/typing_extensions-4.5.0-py3.8.egg\n",
            "Searching for nvidia-cudnn-cu11==8.5.0.96\n",
            "Reading https://pypi.org/simple/nvidia-cudnn-cu11/\n",
            "Downloading https://files.pythonhosted.org/packages/dc/30/66d4347d6e864334da5bb1c7571305e501dcb11b9155971421bb7bb5315f/nvidia_cudnn_cu11-8.5.0.96-2-py3-none-manylinux1_x86_64.whl#sha256=402f40adfc6f418f9dae9ab402e773cfed9beae52333f6d86ae3107a1b9527e7\n",
            "Best match: nvidia-cudnn-cu11 8.5.0.96\n",
            "Processing nvidia_cudnn_cu11-8.5.0.96-2-py3-none-manylinux1_x86_64.whl\n",
            "Installing nvidia_cudnn_cu11-8.5.0.96-2-py3-none-manylinux1_x86_64.whl to /usr/local/lib/python3.8/dist-packages\n",
            "Adding nvidia-cudnn-cu11 8.5.0.96 to easy-install.pth file\n",
            "\n",
            "Installed /usr/local/lib/python3.8/dist-packages/nvidia_cudnn_cu11-8.5.0.96-py3.8-linux-x86_64.egg\n",
            "Searching for nvidia-cuda-runtime-cu11==11.7.99\n",
            "Reading https://pypi.org/simple/nvidia-cuda-runtime-cu11/\n",
            "Downloading https://files.pythonhosted.org/packages/36/92/89cf558b514125d2ebd8344dd2f0533404b416486ff681d5434a5832a019/nvidia_cuda_runtime_cu11-11.7.99-py3-none-manylinux1_x86_64.whl#sha256=cc768314ae58d2641f07eac350f40f99dcb35719c4faff4bc458a7cd2b119e31\n",
            "Best match: nvidia-cuda-runtime-cu11 11.7.99\n",
            "Processing nvidia_cuda_runtime_cu11-11.7.99-py3-none-manylinux1_x86_64.whl\n",
            "Installing nvidia_cuda_runtime_cu11-11.7.99-py3-none-manylinux1_x86_64.whl to /usr/local/lib/python3.8/dist-packages\n",
            "Adding nvidia-cuda-runtime-cu11 11.7.99 to easy-install.pth file\n",
            "\n",
            "Installed /usr/local/lib/python3.8/dist-packages/nvidia_cuda_runtime_cu11-11.7.99-py3.8-linux-x86_64.egg\n",
            "Searching for nvidia-cuda-nvrtc-cu11==11.7.99\n",
            "Reading https://pypi.org/simple/nvidia-cuda-nvrtc-cu11/\n",
            "Downloading https://files.pythonhosted.org/packages/ef/25/922c5996aada6611b79b53985af7999fc629aee1d5d001b6a22431e18fec/nvidia_cuda_nvrtc_cu11-11.7.99-2-py3-none-manylinux1_x86_64.whl#sha256=9f1562822ea264b7e34ed5930567e89242d266448e936b85bc97a3370feabb03\n",
            "Best match: nvidia-cuda-nvrtc-cu11 11.7.99\n",
            "Processing nvidia_cuda_nvrtc_cu11-11.7.99-2-py3-none-manylinux1_x86_64.whl\n",
            "Installing nvidia_cuda_nvrtc_cu11-11.7.99-2-py3-none-manylinux1_x86_64.whl to /usr/local/lib/python3.8/dist-packages\n",
            "Adding nvidia-cuda-nvrtc-cu11 11.7.99 to easy-install.pth file\n",
            "\n",
            "Installed /usr/local/lib/python3.8/dist-packages/nvidia_cuda_nvrtc_cu11-11.7.99-py3.8-linux-x86_64.egg\n",
            "Searching for nvidia-cublas-cu11==11.10.3.66\n",
            "Reading https://pypi.org/simple/nvidia-cublas-cu11/\n",
            "Downloading https://files.pythonhosted.org/packages/ce/41/fdeb62b5437996e841d83d7d2714ca75b886547ee8017ee2fe6ea409d983/nvidia_cublas_cu11-11.10.3.66-py3-none-manylinux1_x86_64.whl#sha256=d32e4d75f94ddfb93ea0a5dda08389bcc65d8916a25cb9f37ac89edaeed3bded\n",
            "Best match: nvidia-cublas-cu11 11.10.3.66\n",
            "Processing nvidia_cublas_cu11-11.10.3.66-py3-none-manylinux1_x86_64.whl\n",
            "Installing nvidia_cublas_cu11-11.10.3.66-py3-none-manylinux1_x86_64.whl to /usr/local/lib/python3.8/dist-packages\n",
            "Adding nvidia-cublas-cu11 11.10.3.66 to easy-install.pth file\n",
            "\n",
            "Installed /usr/local/lib/python3.8/dist-packages/nvidia_cublas_cu11-11.10.3.66-py3.8-linux-x86_64.egg\n",
            "Searching for tqdm>=4.42.1\n",
            "Reading https://pypi.org/simple/tqdm/\n",
            "Downloading https://files.pythonhosted.org/packages/e6/02/a2cff6306177ae6bc73bc0665065de51dfb3b9db7373e122e2735faf0d97/tqdm-4.65.0-py3-none-any.whl#sha256=c4f53a17fe37e132815abceec022631be8ffe1b9381c2e6e30aa70edc99e9671\n",
            "Best match: tqdm 4.65.0\n",
            "Processing tqdm-4.65.0-py3-none-any.whl\n",
            "Installing tqdm-4.65.0-py3-none-any.whl to /usr/local/lib/python3.8/dist-packages\n",
            "Adding tqdm 4.65.0 to easy-install.pth file\n",
            "Installing tqdm script to /usr/local/bin\n",
            "\n",
            "Installed /usr/local/lib/python3.8/dist-packages/tqdm-4.65.0-py3.8.egg\n",
            "Searching for filelock\n",
            "Reading https://pypi.org/simple/filelock/\n",
            "Downloading https://files.pythonhosted.org/packages/14/4c/b201d0292ca4e0950f0741212935eac9996f69cd66b92a3587e594999163/filelock-3.9.0-py3-none-any.whl#sha256=f58d535af89bb9ad5cd4df046f741f8553a418c01a7856bf0d173bbc9f6bd16d\n",
            "Best match: filelock 3.9.0\n",
            "Processing filelock-3.9.0-py3-none-any.whl\n",
            "Installing filelock-3.9.0-py3-none-any.whl to /usr/local/lib/python3.8/dist-packages\n",
            "Adding filelock 3.9.0 to easy-install.pth file\n",
            "\n",
            "Installed /usr/local/lib/python3.8/dist-packages/filelock-3.9.0-py3.8.egg\n",
            "Searching for numpy==1.24.2\n",
            "Best match: numpy 1.24.2\n",
            "Adding numpy 1.24.2 to easy-install.pth file\n",
            "Installing f2py script to /usr/local/bin\n",
            "Installing f2py3 script to /usr/local/bin\n",
            "Installing f2py3.8 script to /usr/local/bin\n",
            "\n",
            "Using /usr/local/lib/python3.8/dist-packages\n",
            "Searching for matplotlib==3.7.1\n",
            "Best match: matplotlib 3.7.1\n",
            "Adding matplotlib 3.7.1 to easy-install.pth file\n",
            "\n",
            "Using /usr/local/lib/python3.8/dist-packages\n",
            "Searching for PyYAML==6.0\n",
            "Best match: PyYAML 6.0\n",
            "Adding PyYAML 6.0 to easy-install.pth file\n",
            "\n",
            "Using /usr/local/lib/python3.8/dist-packages\n",
            "Searching for contourpy==1.0.7\n",
            "Best match: contourpy 1.0.7\n",
            "Adding contourpy 1.0.7 to easy-install.pth file\n",
            "\n",
            "Using /usr/local/lib/python3.8/dist-packages\n",
            "Searching for python-dateutil==2.8.2\n",
            "Best match: python-dateutil 2.8.2\n",
            "Adding python-dateutil 2.8.2 to easy-install.pth file\n",
            "\n",
            "Using /usr/local/lib/python3.8/dist-packages\n",
            "Searching for fonttools==4.39.0\n",
            "Best match: fonttools 4.39.0\n",
            "Adding fonttools 4.39.0 to easy-install.pth file\n",
            "Installing fonttools script to /usr/local/bin\n",
            "Installing pyftmerge script to /usr/local/bin\n",
            "Installing pyftsubset script to /usr/local/bin\n",
            "Installing ttx script to /usr/local/bin\n",
            "\n",
            "Using /usr/local/lib/python3.8/dist-packages\n",
            "Searching for Pillow==7.0.0\n",
            "Best match: Pillow 7.0.0\n",
            "Adding Pillow 7.0.0 to easy-install.pth file\n",
            "\n",
            "Using /usr/local/lib/python3.8/dist-packages\n",
            "Searching for pyparsing==3.0.9\n",
            "Best match: pyparsing 3.0.9\n",
            "Adding pyparsing 3.0.9 to easy-install.pth file\n",
            "\n",
            "Using /usr/local/lib/python3.8/dist-packages\n",
            "Searching for importlib-resources==5.12.0\n",
            "Best match: importlib-resources 5.12.0\n",
            "Adding importlib-resources 5.12.0 to easy-install.pth file\n",
            "\n",
            "Using /usr/local/lib/python3.8/dist-packages\n",
            "Searching for packaging==23.0\n",
            "Best match: packaging 23.0\n",
            "Adding packaging 23.0 to easy-install.pth file\n",
            "\n",
            "Using /usr/local/lib/python3.8/dist-packages\n",
            "Searching for kiwisolver==1.4.4\n",
            "Best match: kiwisolver 1.4.4\n",
            "Adding kiwisolver 1.4.4 to easy-install.pth file\n",
            "\n",
            "Using /usr/local/lib/python3.8/dist-packages\n",
            "Searching for cycler==0.11.0\n",
            "Best match: cycler 0.11.0\n",
            "Adding cycler 0.11.0 to easy-install.pth file\n",
            "\n",
            "Using /usr/local/lib/python3.8/dist-packages\n",
            "Searching for requests==2.28.2\n",
            "Best match: requests 2.28.2\n",
            "Adding requests 2.28.2 to easy-install.pth file\n",
            "\n",
            "Using /usr/local/lib/python3.8/dist-packages\n",
            "Searching for six==1.16.0\n",
            "Best match: six 1.16.0\n",
            "Adding six 1.16.0 to easy-install.pth file\n",
            "\n",
            "Using /usr/local/lib/python3.8/dist-packages\n",
            "Searching for zipp==3.15.0\n",
            "Best match: zipp 3.15.0\n",
            "Adding zipp 3.15.0 to easy-install.pth file\n",
            "\n",
            "Using /usr/local/lib/python3.8/dist-packages\n",
            "Searching for urllib3==1.26.15\n",
            "Best match: urllib3 1.26.15\n",
            "Adding urllib3 1.26.15 to easy-install.pth file\n",
            "\n",
            "Using /usr/local/lib/python3.8/dist-packages\n",
            "Searching for idna==3.4\n",
            "Best match: idna 3.4\n",
            "Adding idna 3.4 to easy-install.pth file\n",
            "\n",
            "Using /usr/local/lib/python3.8/dist-packages\n",
            "Searching for certifi==2022.12.7\n",
            "Best match: certifi 2022.12.7\n",
            "Adding certifi 2022.12.7 to easy-install.pth file\n",
            "\n",
            "Using /usr/local/lib/python3.8/dist-packages\n",
            "Searching for charset-normalizer==3.1.0\n",
            "Best match: charset-normalizer 3.1.0\n",
            "Adding charset-normalizer 3.1.0 to easy-install.pth file\n",
            "Installing normalizer script to /usr/local/bin\n",
            "\n",
            "Using /usr/local/lib/python3.8/dist-packages\n",
            "Searching for wheel==0.34.2\n",
            "Best match: wheel 0.34.2\n",
            "Adding wheel 0.34.2 to easy-install.pth file\n",
            "Installing wheel script to /usr/local/bin\n",
            "\n",
            "Using /usr/lib/python3/dist-packages\n",
            "Searching for setuptools==45.2.0\n",
            "Best match: setuptools 45.2.0\n",
            "Adding setuptools 45.2.0 to easy-install.pth file\n",
            "Installing easy_install script to /usr/local/bin\n",
            "\n",
            "Using /usr/lib/python3/dist-packages\n",
            "Finished processing dependencies for mmsegmentation==0.11.0\n",
            "Looking in indexes: https://pypi.org/simple, https://us-python.pkg.dev/colab-wheels/public/simple/\n",
            "Collecting git+https://github.com/rwightman/pytorch-image-models.git\n",
            "  Cloning https://github.com/rwightman/pytorch-image-models.git to /tmp/pip-req-build-0biaillp\n",
            "  Running command git clone -q https://github.com/rwightman/pytorch-image-models.git /tmp/pip-req-build-0biaillp\n",
            "  Installing build dependencies ... \u001b[?25l\u001b[?25hdone\n",
            "  Getting requirements to build wheel ... \u001b[?25l\u001b[?25hdone\n",
            "    Preparing wheel metadata ... \u001b[?25l\u001b[?25hdone\n",
            "Requirement already satisfied (use --upgrade to upgrade): timm==0.8.15.dev0 from git+https://github.com/rwightman/pytorch-image-models.git in /usr/local/lib/python3.8/dist-packages/timm-0.8.15.dev0-py3.8.egg\n",
            "Requirement already satisfied: huggingface-hub in /usr/local/lib/python3.8/dist-packages/huggingface_hub-0.13.2-py3.8.egg (from timm==0.8.15.dev0) (0.13.2)\n",
            "Requirement already satisfied: safetensors in /usr/local/lib/python3.8/dist-packages/safetensors-0.3.0-py3.8-linux-x86_64.egg (from timm==0.8.15.dev0) (0.3.0)\n",
            "Requirement already satisfied: pyyaml in /usr/local/lib/python3.8/dist-packages (from timm==0.8.15.dev0) (6.0)\n",
            "Requirement already satisfied: torch>=1.7 in /usr/local/lib/python3.8/dist-packages/torch-1.13.1-py3.8-linux-x86_64.egg (from timm==0.8.15.dev0) (1.13.1)\n",
            "Requirement already satisfied: torchvision in /usr/local/lib/python3.8/dist-packages/torchvision-0.14.1-py3.8-linux-x86_64.egg (from timm==0.8.15.dev0) (0.14.1)\n",
            "Requirement already satisfied: filelock in /usr/local/lib/python3.8/dist-packages/filelock-3.9.0-py3.8.egg (from huggingface-hub->timm==0.8.15.dev0) (3.9.0)\n",
            "Requirement already satisfied: packaging>=20.9 in /usr/local/lib/python3.8/dist-packages (from huggingface-hub->timm==0.8.15.dev0) (23.0)\n",
            "Requirement already satisfied: requests in /usr/local/lib/python3.8/dist-packages (from huggingface-hub->timm==0.8.15.dev0) (2.28.2)\n",
            "Requirement already satisfied: tqdm>=4.42.1 in /usr/local/lib/python3.8/dist-packages/tqdm-4.65.0-py3.8.egg (from huggingface-hub->timm==0.8.15.dev0) (4.65.0)\n",
            "Requirement already satisfied: typing-extensions>=3.7.4.3 in /usr/local/lib/python3.8/dist-packages/typing_extensions-4.5.0-py3.8.egg (from huggingface-hub->timm==0.8.15.dev0) (4.5.0)\n",
            "Requirement already satisfied: nvidia-cublas-cu11==11.10.3.66 in /usr/local/lib/python3.8/dist-packages/nvidia_cublas_cu11-11.10.3.66-py3.8-linux-x86_64.egg (from torch>=1.7->timm==0.8.15.dev0) (11.10.3.66)\n",
            "Requirement already satisfied: nvidia-cuda-nvrtc-cu11==11.7.99 in /usr/local/lib/python3.8/dist-packages/nvidia_cuda_nvrtc_cu11-11.7.99-py3.8-linux-x86_64.egg (from torch>=1.7->timm==0.8.15.dev0) (11.7.99)\n",
            "Requirement already satisfied: nvidia-cuda-runtime-cu11==11.7.99 in /usr/local/lib/python3.8/dist-packages/nvidia_cuda_runtime_cu11-11.7.99-py3.8-linux-x86_64.egg (from torch>=1.7->timm==0.8.15.dev0) (11.7.99)\n",
            "Requirement already satisfied: nvidia-cudnn-cu11==8.5.0.96 in /usr/local/lib/python3.8/dist-packages/nvidia_cudnn_cu11-8.5.0.96-py3.8-linux-x86_64.egg (from torch>=1.7->timm==0.8.15.dev0) (8.5.0.96)\n",
            "Requirement already satisfied: numpy in /usr/local/lib/python3.8/dist-packages (from torchvision->timm==0.8.15.dev0) (1.24.2)\n",
            "Requirement already satisfied: pillow!=8.3.*,>=5.3.0 in /usr/local/lib/python3.8/dist-packages (from torchvision->timm==0.8.15.dev0) (7.0.0)\n",
            "Requirement already satisfied: urllib3<1.27,>=1.21.1 in /usr/local/lib/python3.8/dist-packages (from requests->huggingface-hub->timm==0.8.15.dev0) (1.26.15)\n",
            "Requirement already satisfied: certifi>=2017.4.17 in /usr/local/lib/python3.8/dist-packages (from requests->huggingface-hub->timm==0.8.15.dev0) (2022.12.7)\n",
            "Requirement already satisfied: charset-normalizer<4,>=2 in /usr/local/lib/python3.8/dist-packages (from requests->huggingface-hub->timm==0.8.15.dev0) (3.1.0)\n",
            "Requirement already satisfied: idna<4,>=2.5 in /usr/local/lib/python3.8/dist-packages (from requests->huggingface-hub->timm==0.8.15.dev0) (3.4)\n",
            "Requirement already satisfied: setuptools in /usr/lib/python3/dist-packages (from nvidia-cublas-cu11==11.10.3.66->torch>=1.7->timm==0.8.15.dev0) (45.2.0)\n",
            "Requirement already satisfied: wheel in /usr/lib/python3/dist-packages (from nvidia-cublas-cu11==11.10.3.66->torch>=1.7->timm==0.8.15.dev0) (0.34.2)\n",
            "Building wheels for collected packages: timm\n",
            "  Building wheel for timm (PEP 517) ... \u001b[?25l\u001b[?25hdone\n",
            "  Created wheel for timm: filename=timm-0.8.15.dev0-py3-none-any.whl size=1994976 sha256=1507117d99f0435dd1cf79e49d83e17ecf3535b58a6e6a9cfcd2f9bb48a5094f\n",
            "  Stored in directory: /tmp/pip-ephem-wheel-cache-ri5xna66/wheels/b3/03/6a/79956ddc149294ccf13727ca946e8baf38ccbe593299074e86\n",
            "Successfully built timm\n"
          ]
        }
      ]
    },
    {
      "cell_type": "code",
      "metadata": {
        "id": "nlCwROkadQu4",
        "colab": {
          "base_uri": "https://localhost:8080/"
        },
        "outputId": "ea7407ab-aec7-46c7-ad4a-1422d78f05ef"
      },
      "source": [
        "!echo \"y\"|pip uninstall pycocotools\n",
        "!pip install mmpycocotools"
      ],
      "execution_count": 10,
      "outputs": [
        {
          "output_type": "stream",
          "name": "stdout",
          "text": [
            "\u001b[33mWARNING: Skipping pycocotools as it is not installed.\u001b[0m\n",
            "Looking in indexes: https://pypi.org/simple, https://us-python.pkg.dev/colab-wheels/public/simple/\n",
            "Collecting mmpycocotools\n",
            "  Downloading mmpycocotools-12.0.3.tar.gz (23 kB)\n",
            "Collecting cython>=0.27.3\n",
            "  Downloading Cython-0.29.33-cp38-cp38-manylinux_2_17_x86_64.manylinux2014_x86_64.manylinux_2_24_x86_64.whl (1.9 MB)\n",
            "\u001b[K     |████████████████████████████████| 1.9 MB 40.5 MB/s \n",
            "\u001b[?25hRequirement already satisfied: matplotlib>=2.1.0 in /usr/local/lib/python3.8/dist-packages (from mmpycocotools) (3.7.1)\n",
            "Requirement already satisfied: setuptools>=18.0 in /usr/lib/python3/dist-packages (from mmpycocotools) (45.2.0)\n",
            "Requirement already satisfied: numpy>=1.20 in /usr/local/lib/python3.8/dist-packages (from matplotlib>=2.1.0->mmpycocotools) (1.24.2)\n",
            "Requirement already satisfied: packaging>=20.0 in /usr/local/lib/python3.8/dist-packages (from matplotlib>=2.1.0->mmpycocotools) (23.0)\n",
            "Requirement already satisfied: pyparsing>=2.3.1 in /usr/local/lib/python3.8/dist-packages (from matplotlib>=2.1.0->mmpycocotools) (3.0.9)\n",
            "Requirement already satisfied: contourpy>=1.0.1 in /usr/local/lib/python3.8/dist-packages (from matplotlib>=2.1.0->mmpycocotools) (1.0.7)\n",
            "Requirement already satisfied: kiwisolver>=1.0.1 in /usr/local/lib/python3.8/dist-packages (from matplotlib>=2.1.0->mmpycocotools) (1.4.4)\n",
            "Requirement already satisfied: cycler>=0.10 in /usr/local/lib/python3.8/dist-packages (from matplotlib>=2.1.0->mmpycocotools) (0.11.0)\n",
            "Requirement already satisfied: pillow>=6.2.0 in /usr/local/lib/python3.8/dist-packages (from matplotlib>=2.1.0->mmpycocotools) (7.0.0)\n",
            "Requirement already satisfied: python-dateutil>=2.7 in /usr/local/lib/python3.8/dist-packages (from matplotlib>=2.1.0->mmpycocotools) (2.8.2)\n",
            "Requirement already satisfied: fonttools>=4.22.0 in /usr/local/lib/python3.8/dist-packages (from matplotlib>=2.1.0->mmpycocotools) (4.39.0)\n",
            "Requirement already satisfied: importlib-resources>=3.2.0; python_version < \"3.10\" in /usr/local/lib/python3.8/dist-packages (from matplotlib>=2.1.0->mmpycocotools) (5.12.0)\n",
            "Requirement already satisfied: six>=1.5 in /usr/local/lib/python3.8/dist-packages (from python-dateutil>=2.7->matplotlib>=2.1.0->mmpycocotools) (1.16.0)\n",
            "Requirement already satisfied: zipp>=3.1.0; python_version < \"3.10\" in /usr/local/lib/python3.8/dist-packages (from importlib-resources>=3.2.0; python_version < \"3.10\"->matplotlib>=2.1.0->mmpycocotools) (3.15.0)\n",
            "Building wheels for collected packages: mmpycocotools\n",
            "  Building wheel for mmpycocotools (setup.py) ... \u001b[?25lerror\n",
            "\u001b[31m  ERROR: Failed building wheel for mmpycocotools\u001b[0m\n",
            "\u001b[?25h  Running setup.py clean for mmpycocotools\n",
            "Failed to build mmpycocotools\n",
            "Installing collected packages: cython, mmpycocotools\n",
            "    Running setup.py install for mmpycocotools ... \u001b[?25l\u001b[?25hdone\n",
            "Successfully installed cython-0.29.33 mmpycocotools-12.0.3\n"
          ]
        }
      ]
    },
    {
      "cell_type": "code",
      "metadata": {
        "id": "Xx5bFUeb7cX-"
      },
      "source": [
        "!mkdir --parents data/ade/ADEChallengeData2016/images/training\n",
        "!mkdir data/ade/ADEChallengeData2016/images/validation\n",
        "!mkdir --parents data/ade/ADEChallengeData2016/annotations/training\n",
        "!mkdir data/ade/ADEChallengeData2016/annotations/validation"
      ],
      "execution_count": 11,
      "outputs": []
    },
    {
      "cell_type": "code",
      "metadata": {
        "id": "RwsVPsIs6k3z"
      },
      "source": [
        "DATA_PATH = \"/content/wgisd/data/\"\n",
        "image_list = [image for image in os.listdir(DATA_PATH) if \"jpg\" in image]\n",
        "\n",
        "np.random.shuffle(image_list)\n",
        "split = 0.8\n",
        "train = image_list[:int(len(image_list)*split)]\n",
        "test = image_list[int(len(image_list)*split):]"
      ],
      "execution_count": 12,
      "outputs": []
    },
    {
      "cell_type": "code",
      "metadata": {
        "id": "_cS7WyteEujn",
        "colab": {
          "base_uri": "https://localhost:8080/"
        },
        "outputId": "6b25ce0b-f8ae-418d-ba6f-a1403b96b5b7"
      },
      "source": [
        "%cd /content/\n",
        "!unzip -q /content/drive/MyDrive/grape_seg_complete.zip\n",
        "#!unzip -q /content/drive/Shareddrives/InnLab_Carbonaro/AgriArt/data/grape_seg_complete.zip"
      ],
      "execution_count": 13,
      "outputs": [
        {
          "output_type": "stream",
          "name": "stdout",
          "text": [
            "/content\n"
          ]
        }
      ]
    },
    {
      "cell_type": "code",
      "metadata": {
        "id": "8s3BFnCXu0i4",
        "colab": {
          "base_uri": "https://localhost:8080/"
        },
        "outputId": "7da0855b-2360-4237-bea0-8e6b525e5d69"
      },
      "source": [
        "path = \"/content/Default/\"\n",
        "paths = os.listdir(path)\n",
        "for file in tqdm.tqdm(paths):\n",
        "    img = cv2.imread(path + file)\n",
        "    \n",
        "    # foglie + uva + trunk\n",
        "    img = np.where((img == 235) | (img == 245) | (img == 156), 1, img) \n",
        "    img = np.where((img == 217) | (img == 67)  | (img == 224), 2, img)\n",
        "    img = np.where((img == 28)  | (img == 26)  | (img == 227), 3, img)\n",
        "    \n",
        "    cv2.imwrite(path + file, img[:,:,0])"
      ],
      "execution_count": 14,
      "outputs": [
        {
          "output_type": "stream",
          "name": "stderr",
          "text": [
            "100%|██████████| 300/300 [00:33<00:00,  8.97it/s]\n"
          ]
        }
      ]
    },
    {
      "cell_type": "code",
      "metadata": {
        "id": "8wksInuF7HOA"
      },
      "source": [
        "dir_names = {\"train\": \"training\", \"test\":\"validation\"}\n",
        "for phase in [\"train\", \"test\"]:\n",
        "    for image in eval(phase):\n",
        "        label_name = image[:-4] + \".png\"\n",
        "\n",
        "        shutil.copyfile(DATA_PATH + image, \\\n",
        "                        f\"/content/Swin-Transformer-Semantic-Segmentation/data/ade\\\n",
        "/ADEChallengeData2016/images/{dir_names[phase]}/\" + image)\n",
        "        \n",
        "        shutil.copyfile(\"/content/Default/\" + label_name, \\\n",
        "                        f\"/content/Swin-Transformer-Semantic-Segmentation/data/ade\\\n",
        "/ADEChallengeData2016/annotations/{dir_names[phase]}/\" + label_name)"
      ],
      "execution_count": 15,
      "outputs": []
    },
    {
      "cell_type": "code",
      "metadata": {
        "id": "Mztc5FHf1whr"
      },
      "source": [
        "def write_to_file(f, newfile):\n",
        "    f.seek(0)\n",
        "    f.truncate()\n",
        "    f.write(newfile)"
      ],
      "execution_count": 16,
      "outputs": []
    },
    {
      "cell_type": "code",
      "metadata": {
        "id": "s3Bx0QAj4xjk"
      },
      "source": [
        "with open(\"/content/Swin-Transformer-Semantic-Segmentation/configs/_base_/models/upernet_swin.py\", \"r+\") as f:\n",
        "    file = f.read()\n",
        "    newfile = file.replace(\"SyncBN\", \"BN\")\n",
        "    write_to_file(f, newfile) "
      ],
      "execution_count": 17,
      "outputs": []
    },
    {
      "cell_type": "code",
      "metadata": {
        "id": "KSplnNpa2Gfd",
        "colab": {
          "base_uri": "https://localhost:8080/"
        },
        "outputId": "5243bb3c-3644-4b00-ac9e-877297787b39"
      },
      "source": [
        "%cd /content/\n",
        "!unzip -q /content/drive/MyDrive/swin_seg.zip\n",
        "#!unzip -q /content/drive/Shareddrives/InnLab_Carbonaro/AgriArt/checkpoints/swin_seg.zip "
      ],
      "execution_count": 18,
      "outputs": [
        {
          "output_type": "stream",
          "name": "stdout",
          "text": [
            "/content\n"
          ]
        }
      ]
    },
    {
      "cell_type": "code",
      "metadata": {
        "id": "nixRAmvU1_9c",
        "colab": {
          "base_uri": "https://localhost:8080/"
        },
        "outputId": "628887eb-208a-4678-b762-60c23750c909"
      },
      "source": [
        "%cd /content/Swin-Transformer-Semantic-Segmentation/\n",
        "MODEL_PATH = \"/content/work_dirs/upernet_swin_base_patch4_window7_512x512_160k_ade20k/latest.pth\"\n",
        "TEST_IMAGE_PATH = \"/content/wgisd/extra/video_demo_frames/frame-00295.jpg\"\n",
        "CONFIG_PATH = \"/content/Swin-Transformer-Semantic-Segmentation/configs/swin/upernet_swin_base_patch4_window7_512x512_160k_ade20k.py\""
      ],
      "execution_count": 19,
      "outputs": [
        {
          "output_type": "stream",
          "name": "stdout",
          "text": [
            "/content/Swin-Transformer-Semantic-Segmentation\n"
          ]
        }
      ]
    },
    {
      "cell_type": "code",
      "metadata": {
        "id": "LEQDgNUQ_ZLJ"
      },
      "source": [
        "with open(\"/content/Swin-Transformer-Semantic-Segmentation/configs/_base_/datasets/ade20k.py\", \"r+\") as f:\n",
        "    file = f.read()\n",
        "    newfile = file.replace(\"reduce_zero_label=True\", \"reduce_zero_label=False\")\n",
        "    write_to_file(f, newfile)"
      ],
      "execution_count": 20,
      "outputs": []
    },
    {
      "cell_type": "code",
      "metadata": {
        "id": "3zJHP_i2dQu-"
      },
      "source": [
        "#!python tools/train.py \\\n",
        "#    {CONFIG_PATH} \\\n",
        "#    --load-from {MODEL_PATH} \\"
      ],
      "execution_count": null,
      "outputs": []
    },
    {
      "cell_type": "code",
      "metadata": {
        "id": "a4Y0VJTx8LeK"
      },
      "source": [
        "with open(\"/content/Swin-Transformer-Semantic-Segmentation/mmseg/core/evaluation/class_names.py\", \"r+\") as f:\n",
        "    file = f.read()\n",
        "    newfile = file.replace(\"[120, 120, 120], [180, 120, 120], [6, 230, 230], [80, 50, 50],\", \n",
        "                        \"[255, 0, 255], [0, 255, 255], [255, 255, 0], [0, 0, 255],\")\n",
        "    write_to_file(f, newfile)"
      ],
      "execution_count": 21,
      "outputs": []
    },
    {
      "cell_type": "code",
      "metadata": {
        "id": "2TF2lp3V8tCS"
      },
      "source": [
        "with open(\"/content/Swin-Transformer-Semantic-Segmentation/mmseg/apis/inference.py\", \"r+\") as f:\n",
        "    file = f.read()\n",
        "    newfile = re.sub(\"(?<=False\\)\\s)\\s+plt[\\s\\S]+\", \"    import cv2; cv2.imwrite('/content/result.jpg', mmcv.bgr2rgb(img))\", file)\n",
        "    write_to_file(f, newfile)"
      ],
      "execution_count": 22,
      "outputs": []
    },
    {
      "cell_type": "code",
      "metadata": {
        "id": "vfg1BduGGC2E",
        "colab": {
          "base_uri": "https://localhost:8080/"
        },
        "outputId": "49529ab3-1fbe-4118-dc50-009f427341e5"
      },
      "source": [
        "!echo \"y\"|pip uninstall mmsegmentation"
      ],
      "execution_count": 23,
      "outputs": [
        {
          "output_type": "stream",
          "name": "stdout",
          "text": [
            "Found existing installation: mmsegmentation 0.11.0\n",
            "Can't uninstall 'mmsegmentation'. No files were found to uninstall.\n"
          ]
        }
      ]
    },
    {
      "cell_type": "code",
      "source": [
        "'!pip install -U torch==1.5.1+cu101 torchvision==0.6.1+cu101 -f https://download.pytorch.org/whl/torch_stable.html'"
      ],
      "metadata": {
        "id": "8jAxCntbzfiz",
        "colab": {
          "base_uri": "https://localhost:8080/"
        },
        "outputId": "22aaa661-b17c-4617-b175-20cb83a13ea8"
      },
      "execution_count": null,
      "outputs": [
        {
          "output_type": "stream",
          "name": "stdout",
          "text": [
            "Looking in indexes: https://pypi.org/simple, https://us-python.pkg.dev/colab-wheels/public/simple/\n",
            "Looking in links: https://download.pytorch.org/whl/torch_stable.html\n",
            "Collecting torch==1.5.1+cu101\n",
            "  Using cached https://download.pytorch.org/whl/cu101/torch-1.5.1%2Bcu101-cp38-cp38-linux_x86_64.whl (704.4 MB)\n",
            "Requirement already up-to-date: torchvision==0.6.1+cu101 in /usr/local/lib/python3.8/dist-packages (0.6.1+cu101)\n",
            "Requirement already satisfied, skipping upgrade: numpy in /usr/local/lib/python3.8/dist-packages (from torch==1.5.1+cu101) (1.24.2)\n",
            "Requirement already satisfied, skipping upgrade: future in /usr/local/lib/python3.8/dist-packages (from torch==1.5.1+cu101) (0.18.3)\n",
            "Requirement already satisfied, skipping upgrade: pillow>=4.1.1 in /usr/local/lib/python3.8/dist-packages (from torchvision==0.6.1+cu101) (7.0.0)\n",
            "\u001b[31mERROR: timm 0.8.15.dev0 has requirement torch>=1.7, but you'll have torch 1.5.1+cu101 which is incompatible.\u001b[0m\n",
            "Installing collected packages: torch\n",
            "  Attempting uninstall: torch\n",
            "    Found existing installation: torch 1.13.1\n",
            "    Uninstalling torch-1.13.1:\n",
            "      Successfully uninstalled torch-1.13.1\n",
            "Successfully installed torch-1.5.1+cu101\n"
          ]
        }
      ]
    },
    {
      "cell_type": "code",
      "source": [
        "!pip install torch==1.7.0+cu101 torchvision==0.6.1+cu101 -f https://download.pytorch.org/whl/torch_stable.html\n",
        "\n"
      ],
      "metadata": {
        "colab": {
          "base_uri": "https://localhost:8080/"
        },
        "id": "Rlsz2QeITyj8",
        "outputId": "c20db0ca-a19c-4669-e077-98a304ae3fb0"
      },
      "execution_count": 24,
      "outputs": [
        {
          "output_type": "stream",
          "name": "stdout",
          "text": [
            "Looking in indexes: https://pypi.org/simple, https://us-python.pkg.dev/colab-wheels/public/simple/\n",
            "Looking in links: https://download.pytorch.org/whl/torch_stable.html\n",
            "Collecting torch==1.7.0+cu101\n",
            "  Downloading https://download.pytorch.org/whl/cu101/torch-1.7.0%2Bcu101-cp38-cp38-linux_x86_64.whl (735.3 MB)\n",
            "\u001b[K     |████████████████████████████████| 735.3 MB 20 kB/s \n",
            "\u001b[?25hCollecting torchvision==0.6.1+cu101\n",
            "  Downloading https://download.pytorch.org/whl/cu101/torchvision-0.6.1%2Bcu101-cp38-cp38-linux_x86_64.whl (6.6 MB)\n",
            "\u001b[K     |████████████████████████████████| 6.6 MB 55.9 MB/s \n",
            "\u001b[?25hCollecting future\n",
            "  Downloading future-0.18.3.tar.gz (840 kB)\n",
            "\u001b[K     |████████████████████████████████| 840 kB 40.0 MB/s \n",
            "\u001b[?25hRequirement already satisfied: typing-extensions in /usr/local/lib/python3.8/dist-packages/typing_extensions-4.5.0-py3.8.egg (from torch==1.7.0+cu101) (4.5.0)\n",
            "Requirement already satisfied: numpy in /usr/local/lib/python3.8/dist-packages (from torch==1.7.0+cu101) (1.24.2)\n",
            "Collecting dataclasses\n",
            "  Downloading dataclasses-0.6-py3-none-any.whl (14 kB)\n",
            "Requirement already satisfied: pillow>=4.1.1 in /usr/local/lib/python3.8/dist-packages (from torchvision==0.6.1+cu101) (7.0.0)\n",
            "Building wheels for collected packages: future\n",
            "  Building wheel for future (setup.py) ... \u001b[?25l\u001b[?25hdone\n",
            "  Created wheel for future: filename=future-0.18.3-py3-none-any.whl size=492025 sha256=621c9e3c135ed02e6fa6ee1c052cac3c4c421ee6228735be255b94ef9bab9251\n",
            "  Stored in directory: /root/.cache/pip/wheels/a0/0b/ee/e6994fadb42c1354dcccb139b0bf2795271bddfe6253ccdf11\n",
            "Successfully built future\n",
            "\u001b[31mERROR: torchvision 0.6.1+cu101 has requirement torch==1.5.1, but you'll have torch 1.7.0+cu101 which is incompatible.\u001b[0m\n",
            "Installing collected packages: future, dataclasses, torch, torchvision\n",
            "  Attempting uninstall: torch\n",
            "    Found existing installation: torch 1.13.1\n",
            "    Uninstalling torch-1.13.1:\n",
            "      Successfully uninstalled torch-1.13.1\n",
            "  Attempting uninstall: torchvision\n",
            "    Found existing installation: torchvision 0.14.1\n",
            "    Uninstalling torchvision-0.14.1:\n",
            "      Successfully uninstalled torchvision-0.14.1\n",
            "Successfully installed dataclasses-0.6 future-0.18.3 torch-1.7.0+cu101 torchvision-0.6.1+cu101\n"
          ]
        }
      ]
    },
    {
      "cell_type": "code",
      "source": [
        "'!pip uninstall mmcv-full'"
      ],
      "metadata": {
        "colab": {
          "base_uri": "https://localhost:8080/"
        },
        "id": "9Y1wNS4ufG_b",
        "outputId": "95a47524-3b10-433f-8ae4-610c6ba1a15a"
      },
      "execution_count": null,
      "outputs": [
        {
          "output_type": "stream",
          "name": "stdout",
          "text": [
            "Found existing installation: mmcv-full 1.3.0\n",
            "Uninstalling mmcv-full-1.3.0:\n",
            "  Would remove:\n",
            "    /usr/local/lib/python3.8/dist-packages/mmcv/*\n",
            "    /usr/local/lib/python3.8/dist-packages/mmcv_full-1.3.0.dist-info/*\n",
            "Proceed (y/n)? \u001b[31m  ERROR: Operation cancelled by user\u001b[0m\n"
          ]
        }
      ]
    },
    {
      "cell_type": "code",
      "source": [
        "'pip install mmcv-full==1.3.0 -f https://download.openmmlab.com/mmcv/dist/cu101/torch1.7.0/index.html'\n"
      ],
      "metadata": {
        "colab": {
          "base_uri": "https://localhost:8080/"
        },
        "id": "lD_6DSgRet8y",
        "outputId": "4dfede1a-6595-4a31-c73e-6f6a9d623e20"
      },
      "execution_count": null,
      "outputs": [
        {
          "output_type": "stream",
          "name": "stdout",
          "text": [
            "Looking in indexes: https://pypi.org/simple, https://us-python.pkg.dev/colab-wheels/public/simple/\n",
            "Looking in links: https://download.openmmlab.com/mmcv/dist/cu101/torch1.7.0/index.html\n",
            "Collecting mmcv-full==1.3.0\n",
            "  Downloading https://download.openmmlab.com/mmcv/dist/cu101/torch1.7.0/mmcv_full-1.3.0-cp38-cp38-manylinux1_x86_64.whl (24.8 MB)\n",
            "\u001b[K     |████████████████████████████████| 24.8 MB 3.3 MB/s \n",
            "\u001b[?25hRequirement already satisfied: pyyaml in /usr/local/lib/python3.8/dist-packages (from mmcv-full==1.3.0) (6.0)\n",
            "Requirement already satisfied: numpy in /usr/local/lib/python3.8/dist-packages (from mmcv-full==1.3.0) (1.24.2)\n",
            "Requirement already satisfied: Pillow in /usr/local/lib/python3.8/dist-packages (from mmcv-full==1.3.0) (7.0.0)\n",
            "Requirement already satisfied: yapf in /usr/local/lib/python3.8/dist-packages (from mmcv-full==1.3.0) (0.32.0)\n",
            "Requirement already satisfied: opencv-python>=3 in /usr/local/lib/python3.8/dist-packages (from mmcv-full==1.3.0) (4.7.0.72)\n",
            "Requirement already satisfied: addict in /usr/local/lib/python3.8/dist-packages (from mmcv-full==1.3.0) (2.4.0)\n",
            "Installing collected packages: mmcv-full\n",
            "Successfully installed mmcv-full-1.3.0\n"
          ]
        }
      ]
    },
    {
      "cell_type": "code",
      "metadata": {
        "id": "ir1DUpUv7LPF",
        "colab": {
          "base_uri": "https://localhost:8080/"
        },
        "outputId": "f340b326-9529-43fa-fcbf-b79420cb7283"
      },
      "source": [
        "!python demo/image_demo.py --palette ade {TEST_IMAGE_PATH} {CONFIG_PATH} {MODEL_PATH}"
      ],
      "execution_count": 25,
      "outputs": [
        {
          "output_type": "stream",
          "name": "stdout",
          "text": [
            "Use load_from_local loader\n",
            "/content/Swin-Transformer-Semantic-Segmentation/mmseg/models/segmentors/base.py:267: UserWarning: show==False and out_file is not specified, only result image will be returned\n",
            "  warnings.warn('show==False and out_file is not specified, only '\n"
          ]
        }
      ]
    },
    {
      "cell_type": "code",
      "source": [
        "#!python /content/Swin-Transformer-Semantic-Segmentation/mmseg/utils/collect_env.py\n",
        "import torch\n",
        "\n",
        "torch.__version__"
      ],
      "metadata": {
        "colab": {
          "base_uri": "https://localhost:8080/",
          "height": 35
        },
        "id": "eNzVvbn8FVMJ",
        "outputId": "a0176849-54d1-475a-edd2-179a92705da2"
      },
      "execution_count": 26,
      "outputs": [
        {
          "output_type": "execute_result",
          "data": {
            "text/plain": [
              "'1.13.1+cu116'"
            ],
            "application/vnd.google.colaboratory.intrinsic+json": {
              "type": "string"
            }
          },
          "metadata": {},
          "execution_count": 26
        }
      ]
    },
    {
      "cell_type": "code",
      "source": [
        "!nvidia-smi\n"
      ],
      "metadata": {
        "colab": {
          "base_uri": "https://localhost:8080/"
        },
        "id": "Orv5oYo6WSc8",
        "outputId": "7f5a8646-69fa-43f2-b2fc-67e3896a6b94"
      },
      "execution_count": 27,
      "outputs": [
        {
          "output_type": "stream",
          "name": "stdout",
          "text": [
            "Tue Mar 14 08:56:31 2023       \n",
            "+-----------------------------------------------------------------------------+\n",
            "| NVIDIA-SMI 525.85.12    Driver Version: 525.85.12    CUDA Version: 12.0     |\n",
            "|-------------------------------+----------------------+----------------------+\n",
            "| GPU  Name        Persistence-M| Bus-Id        Disp.A | Volatile Uncorr. ECC |\n",
            "| Fan  Temp  Perf  Pwr:Usage/Cap|         Memory-Usage | GPU-Util  Compute M. |\n",
            "|                               |                      |               MIG M. |\n",
            "|===============================+======================+======================|\n",
            "|   0  Tesla T4            Off  | 00000000:00:04.0 Off |                    0 |\n",
            "| N/A   44C    P0    26W /  70W |      0MiB / 15360MiB |      0%      Default |\n",
            "|                               |                      |                  N/A |\n",
            "+-------------------------------+----------------------+----------------------+\n",
            "                                                                               \n",
            "+-----------------------------------------------------------------------------+\n",
            "| Processes:                                                                  |\n",
            "|  GPU   GI   CI        PID   Type   Process name                  GPU Memory |\n",
            "|        ID   ID                                                   Usage      |\n",
            "|=============================================================================|\n",
            "|  No running processes found                                                 |\n",
            "+-----------------------------------------------------------------------------+\n"
          ]
        }
      ]
    }
  ]
}